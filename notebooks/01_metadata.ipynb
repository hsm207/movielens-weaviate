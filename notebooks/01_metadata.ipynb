{
 "cells": [
  {
   "attachments": {},
   "cell_type": "markdown",
   "metadata": {},
   "source": [
    "# Imports"
   ]
  },
  {
   "cell_type": "code",
   "execution_count": 1,
   "metadata": {},
   "outputs": [],
   "source": [
    "import pandas as pd\n"
   ]
  },
  {
   "cell_type": "markdown",
   "metadata": {},
   "source": [
    "# Data"
   ]
  },
  {
   "cell_type": "code",
   "execution_count": 2,
   "metadata": {},
   "outputs": [],
   "source": [
    "links = pd.read_csv('../data/ml-25m/links.csv',\n",
    "                    index_col='movieId', dtype={'imdbId': str, 'tmdbId': str, 'movieId': str})\n",
    "\n",
    "movies25m = pd.read_csv('../data/ml-25m/movies.csv',\n",
    "                        index_col='movieId', dtype={'movieid': str, 'title': str, 'genres': str})\\\n",
    "    .join(links)\n",
    "\n",
    "movies1m = pd.read_csv('../data/ml-1m/movies.dat', sep='::',\n",
    "                       engine='python',\n",
    "                       encoding='latin-1',\n",
    "                       names=['movieId', 'title', 'genres'],\n",
    "                       index_col='movieId',\n",
    "                       dtype={'movieId': str, 'title': str, 'genres': str})\\\n",
    "    .join(movies25m, lsuffix='_1m', rsuffix='_25m')\n"
   ]
  },
  {
   "attachments": {},
   "cell_type": "markdown",
   "metadata": {},
   "source": [
    "# Cleanup"
   ]
  },
  {
   "attachments": {},
   "cell_type": "markdown",
   "metadata": {},
   "source": [
    "How many movies in `moviesm1m` have no id?"
   ]
  },
  {
   "cell_type": "code",
   "execution_count": 3,
   "metadata": {},
   "outputs": [
    {
     "data": {
      "text/plain": [
       "(34, 6)"
      ]
     },
     "execution_count": 3,
     "metadata": {},
     "output_type": "execute_result"
    }
   ],
   "source": [
    "no_title_id_idx = movies1m[\"imdbId\"].isna()\n",
    "noid_movies1m = movies1m[no_title_id_idx]\n",
    "noid_movies1m.shape\n"
   ]
  },
  {
   "attachments": {},
   "cell_type": "markdown",
   "metadata": {},
   "source": [
    "Just ignore those moviews with no ids:"
   ]
  },
  {
   "cell_type": "code",
   "execution_count": 4,
   "metadata": {},
   "outputs": [
    {
     "data": {
      "text/plain": [
       "(3849, 6)"
      ]
     },
     "execution_count": 4,
     "metadata": {},
     "output_type": "execute_result"
    }
   ],
   "source": [
    "movies1m = movies1m[~no_title_id_idx]\n",
    "movies1m.shape\n"
   ]
  },
  {
   "attachments": {},
   "cell_type": "markdown",
   "metadata": {},
   "source": [
    "Check if there are movies with no imdb id:"
   ]
  },
  {
   "cell_type": "code",
   "execution_count": 5,
   "metadata": {},
   "outputs": [
    {
     "data": {
      "text/plain": [
       "0"
      ]
     },
     "execution_count": 5,
     "metadata": {},
     "output_type": "execute_result"
    }
   ],
   "source": [
    "# find NaN in imbdId in movies1m\n",
    "movies1m[\"imdbId\"].isna().sum()"
   ]
  },
  {
   "attachments": {},
   "cell_type": "markdown",
   "metadata": {},
   "source": [
    "Are the movie titles in 1m the same as 25m?"
   ]
  },
  {
   "cell_type": "code",
   "execution_count": 6,
   "metadata": {},
   "outputs": [
    {
     "data": {
      "text/plain": [
       "(516, 2)"
      ]
     },
     "execution_count": 6,
     "metadata": {},
     "output_type": "execute_result"
    }
   ],
   "source": [
    "# show rows where title_1m != title_25m\n",
    "# show only the title columns\n",
    "# assign it to diff_titles\n",
    "diff_titles = movies1m[movies1m[\"title_1m\"] != movies1m[\"title_25m\"]][[\"title_1m\", \"title_25m\"]]\n",
    "diff_titles.shape"
   ]
  },
  {
   "cell_type": "code",
   "execution_count": 7,
   "metadata": {},
   "outputs": [
    {
     "data": {
      "text/html": [
       "<div>\n",
       "<style scoped>\n",
       "    .dataframe tbody tr th:only-of-type {\n",
       "        vertical-align: middle;\n",
       "    }\n",
       "\n",
       "    .dataframe tbody tr th {\n",
       "        vertical-align: top;\n",
       "    }\n",
       "\n",
       "    .dataframe thead th {\n",
       "        text-align: right;\n",
       "    }\n",
       "</style>\n",
       "<table border=\"1\" class=\"dataframe\">\n",
       "  <thead>\n",
       "    <tr style=\"text-align: right;\">\n",
       "      <th></th>\n",
       "      <th>title_1m</th>\n",
       "      <th>title_25m</th>\n",
       "    </tr>\n",
       "    <tr>\n",
       "      <th>movieId</th>\n",
       "      <th></th>\n",
       "      <th></th>\n",
       "    </tr>\n",
       "  </thead>\n",
       "  <tbody>\n",
       "    <tr>\n",
       "      <th>3761</th>\n",
       "      <td>Blood In, Blood Out (a.k.a. Bound by Honor) (1...</td>\n",
       "      <td>Blood In, Blood Out (1993)</td>\n",
       "    </tr>\n",
       "    <tr>\n",
       "      <th>245</th>\n",
       "      <td>Glass Shield, The (1994)</td>\n",
       "      <td>The Glass Shield (1994)</td>\n",
       "    </tr>\n",
       "    <tr>\n",
       "      <th>889</th>\n",
       "      <td>1-900 (1994)</td>\n",
       "      <td>1-900 (06) (1994)</td>\n",
       "    </tr>\n",
       "    <tr>\n",
       "      <th>2189</th>\n",
       "      <td>I Married A Strange Person (1997)</td>\n",
       "      <td>I Married A Strange Person! (1997)</td>\n",
       "    </tr>\n",
       "    <tr>\n",
       "      <th>2564</th>\n",
       "      <td>Empty Mirror, The (1999)</td>\n",
       "      <td>Empty Mirror, The (1996)</td>\n",
       "    </tr>\n",
       "    <tr>\n",
       "      <th>...</th>\n",
       "      <td>...</td>\n",
       "      <td>...</td>\n",
       "    </tr>\n",
       "    <tr>\n",
       "      <th>652</th>\n",
       "      <td>301, 302 (1995)</td>\n",
       "      <td>301, 302 (301/302) (1995)</td>\n",
       "    </tr>\n",
       "    <tr>\n",
       "      <th>1209</th>\n",
       "      <td>Once Upon a Time in the West (1969)</td>\n",
       "      <td>Once Upon a Time in the West (C'era una volta ...</td>\n",
       "    </tr>\n",
       "    <tr>\n",
       "      <th>284</th>\n",
       "      <td>New York Cop (1996)</td>\n",
       "      <td>New York Cop (Nyû Yôku no koppu) (1993)</td>\n",
       "    </tr>\n",
       "    <tr>\n",
       "      <th>649</th>\n",
       "      <td>Cold Fever (Á köldum klaka) (1994)</td>\n",
       "      <td>Cold Fever (Á köldum klaka) (1995)</td>\n",
       "    </tr>\n",
       "    <tr>\n",
       "      <th>3652</th>\n",
       "      <td>City of the Living Dead (Paura nella città dei...</td>\n",
       "      <td>City of the Living Dead (a.k.a. Gates of Hell,...</td>\n",
       "    </tr>\n",
       "  </tbody>\n",
       "</table>\n",
       "<p>100 rows × 2 columns</p>\n",
       "</div>"
      ],
      "text/plain": [
       "                                                  title_1m  \\\n",
       "movieId                                                      \n",
       "3761     Blood In, Blood Out (a.k.a. Bound by Honor) (1...   \n",
       "245                               Glass Shield, The (1994)   \n",
       "889                                           1-900 (1994)   \n",
       "2189                     I Married A Strange Person (1997)   \n",
       "2564                              Empty Mirror, The (1999)   \n",
       "...                                                    ...   \n",
       "652                                        301, 302 (1995)   \n",
       "1209                   Once Upon a Time in the West (1969)   \n",
       "284                                    New York Cop (1996)   \n",
       "649                     Cold Fever (Á köldum klaka) (1994)   \n",
       "3652     City of the Living Dead (Paura nella città dei...   \n",
       "\n",
       "                                                 title_25m  \n",
       "movieId                                                     \n",
       "3761                            Blood In, Blood Out (1993)  \n",
       "245                                The Glass Shield (1994)  \n",
       "889                                      1-900 (06) (1994)  \n",
       "2189                    I Married A Strange Person! (1997)  \n",
       "2564                              Empty Mirror, The (1996)  \n",
       "...                                                    ...  \n",
       "652                              301, 302 (301/302) (1995)  \n",
       "1209     Once Upon a Time in the West (C'era una volta ...  \n",
       "284                New York Cop (Nyû Yôku no koppu) (1993)  \n",
       "649                     Cold Fever (Á köldum klaka) (1995)  \n",
       "3652     City of the Living Dead (a.k.a. Gates of Hell,...  \n",
       "\n",
       "[100 rows x 2 columns]"
      ]
     },
     "execution_count": 7,
     "metadata": {},
     "output_type": "execute_result"
    }
   ],
   "source": [
    "# show random 100 random samples of diff_titles\n",
    "diff_titles.sample(100)"
   ]
  },
  {
   "attachments": {},
   "cell_type": "markdown",
   "metadata": {},
   "source": [
    "Looks like there are just minor differences in the title and/or year so we keep all of them."
   ]
  },
  {
   "attachments": {},
   "cell_type": "markdown",
   "metadata": {},
   "source": [
    "Drop unneded columns:"
   ]
  },
  {
   "cell_type": "code",
   "execution_count": 8,
   "metadata": {},
   "outputs": [
    {
     "data": {
      "text/html": [
       "<div>\n",
       "<style scoped>\n",
       "    .dataframe tbody tr th:only-of-type {\n",
       "        vertical-align: middle;\n",
       "    }\n",
       "\n",
       "    .dataframe tbody tr th {\n",
       "        vertical-align: top;\n",
       "    }\n",
       "\n",
       "    .dataframe thead th {\n",
       "        text-align: right;\n",
       "    }\n",
       "</style>\n",
       "<table border=\"1\" class=\"dataframe\">\n",
       "  <thead>\n",
       "    <tr style=\"text-align: right;\">\n",
       "      <th></th>\n",
       "      <th>title</th>\n",
       "      <th>genres</th>\n",
       "      <th>imdbId</th>\n",
       "    </tr>\n",
       "    <tr>\n",
       "      <th>movieId</th>\n",
       "      <th></th>\n",
       "      <th></th>\n",
       "      <th></th>\n",
       "    </tr>\n",
       "  </thead>\n",
       "  <tbody>\n",
       "    <tr>\n",
       "      <th>1</th>\n",
       "      <td>Toy Story (1995)</td>\n",
       "      <td>Animation|Children's|Comedy</td>\n",
       "      <td>0114709</td>\n",
       "    </tr>\n",
       "    <tr>\n",
       "      <th>2</th>\n",
       "      <td>Jumanji (1995)</td>\n",
       "      <td>Adventure|Children's|Fantasy</td>\n",
       "      <td>0113497</td>\n",
       "    </tr>\n",
       "    <tr>\n",
       "      <th>3</th>\n",
       "      <td>Grumpier Old Men (1995)</td>\n",
       "      <td>Comedy|Romance</td>\n",
       "      <td>0113228</td>\n",
       "    </tr>\n",
       "    <tr>\n",
       "      <th>4</th>\n",
       "      <td>Waiting to Exhale (1995)</td>\n",
       "      <td>Comedy|Drama</td>\n",
       "      <td>0114885</td>\n",
       "    </tr>\n",
       "    <tr>\n",
       "      <th>5</th>\n",
       "      <td>Father of the Bride Part II (1995)</td>\n",
       "      <td>Comedy</td>\n",
       "      <td>0113041</td>\n",
       "    </tr>\n",
       "    <tr>\n",
       "      <th>...</th>\n",
       "      <td>...</td>\n",
       "      <td>...</td>\n",
       "      <td>...</td>\n",
       "    </tr>\n",
       "    <tr>\n",
       "      <th>3948</th>\n",
       "      <td>Meet the Parents (2000)</td>\n",
       "      <td>Comedy</td>\n",
       "      <td>0212338</td>\n",
       "    </tr>\n",
       "    <tr>\n",
       "      <th>3949</th>\n",
       "      <td>Requiem for a Dream (2000)</td>\n",
       "      <td>Drama</td>\n",
       "      <td>0180093</td>\n",
       "    </tr>\n",
       "    <tr>\n",
       "      <th>3950</th>\n",
       "      <td>Tigerland (2000)</td>\n",
       "      <td>Drama</td>\n",
       "      <td>0170691</td>\n",
       "    </tr>\n",
       "    <tr>\n",
       "      <th>3951</th>\n",
       "      <td>Two Family House (2000)</td>\n",
       "      <td>Drama</td>\n",
       "      <td>0202641</td>\n",
       "    </tr>\n",
       "    <tr>\n",
       "      <th>3952</th>\n",
       "      <td>Contender, The (2000)</td>\n",
       "      <td>Drama|Thriller</td>\n",
       "      <td>0208874</td>\n",
       "    </tr>\n",
       "  </tbody>\n",
       "</table>\n",
       "<p>3849 rows × 3 columns</p>\n",
       "</div>"
      ],
      "text/plain": [
       "                                      title                        genres  \\\n",
       "movieId                                                                     \n",
       "1                          Toy Story (1995)   Animation|Children's|Comedy   \n",
       "2                            Jumanji (1995)  Adventure|Children's|Fantasy   \n",
       "3                   Grumpier Old Men (1995)                Comedy|Romance   \n",
       "4                  Waiting to Exhale (1995)                  Comedy|Drama   \n",
       "5        Father of the Bride Part II (1995)                        Comedy   \n",
       "...                                     ...                           ...   \n",
       "3948                Meet the Parents (2000)                        Comedy   \n",
       "3949             Requiem for a Dream (2000)                         Drama   \n",
       "3950                       Tigerland (2000)                         Drama   \n",
       "3951                Two Family House (2000)                         Drama   \n",
       "3952                  Contender, The (2000)                Drama|Thriller   \n",
       "\n",
       "          imdbId  \n",
       "movieId           \n",
       "1        0114709  \n",
       "2        0113497  \n",
       "3        0113228  \n",
       "4        0114885  \n",
       "5        0113041  \n",
       "...          ...  \n",
       "3948     0212338  \n",
       "3949     0180093  \n",
       "3950     0170691  \n",
       "3951     0202641  \n",
       "3952     0208874  \n",
       "\n",
       "[3849 rows x 3 columns]"
      ]
     },
     "execution_count": 8,
     "metadata": {},
     "output_type": "execute_result"
    }
   ],
   "source": [
    "# drop columns with _25m suffix and tmdbId\n",
    "movies1m = movies1m.drop(columns=[col for col in movies1m.columns if col.endswith(\"_25m\")])\n",
    "movies1m = movies1m.drop(columns=[\"tmdbId\"])\n",
    "\n",
    "# rename columns with _1m suffix\n",
    "movies1m = movies1m.rename(columns={col: col[:-3] for col in movies1m.columns if col.endswith(\"_1m\")})\n",
    "\n",
    "movies1m"
   ]
  },
  {
   "attachments": {},
   "cell_type": "markdown",
   "metadata": {},
   "source": [
    "Add URL to look up the moview in imbd:"
   ]
  },
  {
   "cell_type": "code",
   "execution_count": 9,
   "metadata": {},
   "outputs": [
    {
     "data": {
      "text/html": [
       "<div>\n",
       "<style scoped>\n",
       "    .dataframe tbody tr th:only-of-type {\n",
       "        vertical-align: middle;\n",
       "    }\n",
       "\n",
       "    .dataframe tbody tr th {\n",
       "        vertical-align: top;\n",
       "    }\n",
       "\n",
       "    .dataframe thead th {\n",
       "        text-align: right;\n",
       "    }\n",
       "</style>\n",
       "<table border=\"1\" class=\"dataframe\">\n",
       "  <thead>\n",
       "    <tr style=\"text-align: right;\">\n",
       "      <th></th>\n",
       "      <th>title</th>\n",
       "      <th>genres</th>\n",
       "      <th>imdbId</th>\n",
       "      <th>imdb_url</th>\n",
       "    </tr>\n",
       "    <tr>\n",
       "      <th>movieId</th>\n",
       "      <th></th>\n",
       "      <th></th>\n",
       "      <th></th>\n",
       "      <th></th>\n",
       "    </tr>\n",
       "  </thead>\n",
       "  <tbody>\n",
       "    <tr>\n",
       "      <th>1</th>\n",
       "      <td>Toy Story (1995)</td>\n",
       "      <td>Animation|Children's|Comedy</td>\n",
       "      <td>0114709</td>\n",
       "      <td>https://www.imdb.com/title/tt0114709/plotsummary</td>\n",
       "    </tr>\n",
       "    <tr>\n",
       "      <th>2</th>\n",
       "      <td>Jumanji (1995)</td>\n",
       "      <td>Adventure|Children's|Fantasy</td>\n",
       "      <td>0113497</td>\n",
       "      <td>https://www.imdb.com/title/tt0113497/plotsummary</td>\n",
       "    </tr>\n",
       "    <tr>\n",
       "      <th>3</th>\n",
       "      <td>Grumpier Old Men (1995)</td>\n",
       "      <td>Comedy|Romance</td>\n",
       "      <td>0113228</td>\n",
       "      <td>https://www.imdb.com/title/tt0113228/plotsummary</td>\n",
       "    </tr>\n",
       "    <tr>\n",
       "      <th>4</th>\n",
       "      <td>Waiting to Exhale (1995)</td>\n",
       "      <td>Comedy|Drama</td>\n",
       "      <td>0114885</td>\n",
       "      <td>https://www.imdb.com/title/tt0114885/plotsummary</td>\n",
       "    </tr>\n",
       "    <tr>\n",
       "      <th>5</th>\n",
       "      <td>Father of the Bride Part II (1995)</td>\n",
       "      <td>Comedy</td>\n",
       "      <td>0113041</td>\n",
       "      <td>https://www.imdb.com/title/tt0113041/plotsummary</td>\n",
       "    </tr>\n",
       "    <tr>\n",
       "      <th>...</th>\n",
       "      <td>...</td>\n",
       "      <td>...</td>\n",
       "      <td>...</td>\n",
       "      <td>...</td>\n",
       "    </tr>\n",
       "    <tr>\n",
       "      <th>3948</th>\n",
       "      <td>Meet the Parents (2000)</td>\n",
       "      <td>Comedy</td>\n",
       "      <td>0212338</td>\n",
       "      <td>https://www.imdb.com/title/tt0212338/plotsummary</td>\n",
       "    </tr>\n",
       "    <tr>\n",
       "      <th>3949</th>\n",
       "      <td>Requiem for a Dream (2000)</td>\n",
       "      <td>Drama</td>\n",
       "      <td>0180093</td>\n",
       "      <td>https://www.imdb.com/title/tt0180093/plotsummary</td>\n",
       "    </tr>\n",
       "    <tr>\n",
       "      <th>3950</th>\n",
       "      <td>Tigerland (2000)</td>\n",
       "      <td>Drama</td>\n",
       "      <td>0170691</td>\n",
       "      <td>https://www.imdb.com/title/tt0170691/plotsummary</td>\n",
       "    </tr>\n",
       "    <tr>\n",
       "      <th>3951</th>\n",
       "      <td>Two Family House (2000)</td>\n",
       "      <td>Drama</td>\n",
       "      <td>0202641</td>\n",
       "      <td>https://www.imdb.com/title/tt0202641/plotsummary</td>\n",
       "    </tr>\n",
       "    <tr>\n",
       "      <th>3952</th>\n",
       "      <td>Contender, The (2000)</td>\n",
       "      <td>Drama|Thriller</td>\n",
       "      <td>0208874</td>\n",
       "      <td>https://www.imdb.com/title/tt0208874/plotsummary</td>\n",
       "    </tr>\n",
       "  </tbody>\n",
       "</table>\n",
       "<p>3849 rows × 4 columns</p>\n",
       "</div>"
      ],
      "text/plain": [
       "                                      title                        genres  \\\n",
       "movieId                                                                     \n",
       "1                          Toy Story (1995)   Animation|Children's|Comedy   \n",
       "2                            Jumanji (1995)  Adventure|Children's|Fantasy   \n",
       "3                   Grumpier Old Men (1995)                Comedy|Romance   \n",
       "4                  Waiting to Exhale (1995)                  Comedy|Drama   \n",
       "5        Father of the Bride Part II (1995)                        Comedy   \n",
       "...                                     ...                           ...   \n",
       "3948                Meet the Parents (2000)                        Comedy   \n",
       "3949             Requiem for a Dream (2000)                         Drama   \n",
       "3950                       Tigerland (2000)                         Drama   \n",
       "3951                Two Family House (2000)                         Drama   \n",
       "3952                  Contender, The (2000)                Drama|Thriller   \n",
       "\n",
       "          imdbId                                          imdb_url  \n",
       "movieId                                                             \n",
       "1        0114709  https://www.imdb.com/title/tt0114709/plotsummary  \n",
       "2        0113497  https://www.imdb.com/title/tt0113497/plotsummary  \n",
       "3        0113228  https://www.imdb.com/title/tt0113228/plotsummary  \n",
       "4        0114885  https://www.imdb.com/title/tt0114885/plotsummary  \n",
       "5        0113041  https://www.imdb.com/title/tt0113041/plotsummary  \n",
       "...          ...                                               ...  \n",
       "3948     0212338  https://www.imdb.com/title/tt0212338/plotsummary  \n",
       "3949     0180093  https://www.imdb.com/title/tt0180093/plotsummary  \n",
       "3950     0170691  https://www.imdb.com/title/tt0170691/plotsummary  \n",
       "3951     0202641  https://www.imdb.com/title/tt0202641/plotsummary  \n",
       "3952     0208874  https://www.imdb.com/title/tt0208874/plotsummary  \n",
       "\n",
       "[3849 rows x 4 columns]"
      ]
     },
     "execution_count": 9,
     "metadata": {},
     "output_type": "execute_result"
    }
   ],
   "source": [
    "# create a new column called imbd_url\n",
    "# set imdb_url to https://www.imdb.com/title/tt + the value of imdbId + /plotsummary\n",
    "movies1m[\"imdb_url\"] = \"https://www.imdb.com/title/tt\" + movies1m[\"imdbId\"] + \"/plotsummary\"\n",
    "movies1m"
   ]
  },
  {
   "attachments": {},
   "cell_type": "markdown",
   "metadata": {},
   "source": [
    "Make the genres into a list:"
   ]
  },
  {
   "cell_type": "code",
   "execution_count": 10,
   "metadata": {},
   "outputs": [
    {
     "data": {
      "text/html": [
       "<div>\n",
       "<style scoped>\n",
       "    .dataframe tbody tr th:only-of-type {\n",
       "        vertical-align: middle;\n",
       "    }\n",
       "\n",
       "    .dataframe tbody tr th {\n",
       "        vertical-align: top;\n",
       "    }\n",
       "\n",
       "    .dataframe thead th {\n",
       "        text-align: right;\n",
       "    }\n",
       "</style>\n",
       "<table border=\"1\" class=\"dataframe\">\n",
       "  <thead>\n",
       "    <tr style=\"text-align: right;\">\n",
       "      <th></th>\n",
       "      <th>title</th>\n",
       "      <th>genres</th>\n",
       "      <th>imdbId</th>\n",
       "      <th>imdb_url</th>\n",
       "    </tr>\n",
       "    <tr>\n",
       "      <th>movieId</th>\n",
       "      <th></th>\n",
       "      <th></th>\n",
       "      <th></th>\n",
       "      <th></th>\n",
       "    </tr>\n",
       "  </thead>\n",
       "  <tbody>\n",
       "    <tr>\n",
       "      <th>1</th>\n",
       "      <td>Toy Story (1995)</td>\n",
       "      <td>[Animation, Children's, Comedy]</td>\n",
       "      <td>0114709</td>\n",
       "      <td>https://www.imdb.com/title/tt0114709/plotsummary</td>\n",
       "    </tr>\n",
       "    <tr>\n",
       "      <th>2</th>\n",
       "      <td>Jumanji (1995)</td>\n",
       "      <td>[Adventure, Children's, Fantasy]</td>\n",
       "      <td>0113497</td>\n",
       "      <td>https://www.imdb.com/title/tt0113497/plotsummary</td>\n",
       "    </tr>\n",
       "    <tr>\n",
       "      <th>3</th>\n",
       "      <td>Grumpier Old Men (1995)</td>\n",
       "      <td>[Comedy, Romance]</td>\n",
       "      <td>0113228</td>\n",
       "      <td>https://www.imdb.com/title/tt0113228/plotsummary</td>\n",
       "    </tr>\n",
       "    <tr>\n",
       "      <th>4</th>\n",
       "      <td>Waiting to Exhale (1995)</td>\n",
       "      <td>[Comedy, Drama]</td>\n",
       "      <td>0114885</td>\n",
       "      <td>https://www.imdb.com/title/tt0114885/plotsummary</td>\n",
       "    </tr>\n",
       "    <tr>\n",
       "      <th>5</th>\n",
       "      <td>Father of the Bride Part II (1995)</td>\n",
       "      <td>[Comedy]</td>\n",
       "      <td>0113041</td>\n",
       "      <td>https://www.imdb.com/title/tt0113041/plotsummary</td>\n",
       "    </tr>\n",
       "    <tr>\n",
       "      <th>...</th>\n",
       "      <td>...</td>\n",
       "      <td>...</td>\n",
       "      <td>...</td>\n",
       "      <td>...</td>\n",
       "    </tr>\n",
       "    <tr>\n",
       "      <th>3948</th>\n",
       "      <td>Meet the Parents (2000)</td>\n",
       "      <td>[Comedy]</td>\n",
       "      <td>0212338</td>\n",
       "      <td>https://www.imdb.com/title/tt0212338/plotsummary</td>\n",
       "    </tr>\n",
       "    <tr>\n",
       "      <th>3949</th>\n",
       "      <td>Requiem for a Dream (2000)</td>\n",
       "      <td>[Drama]</td>\n",
       "      <td>0180093</td>\n",
       "      <td>https://www.imdb.com/title/tt0180093/plotsummary</td>\n",
       "    </tr>\n",
       "    <tr>\n",
       "      <th>3950</th>\n",
       "      <td>Tigerland (2000)</td>\n",
       "      <td>[Drama]</td>\n",
       "      <td>0170691</td>\n",
       "      <td>https://www.imdb.com/title/tt0170691/plotsummary</td>\n",
       "    </tr>\n",
       "    <tr>\n",
       "      <th>3951</th>\n",
       "      <td>Two Family House (2000)</td>\n",
       "      <td>[Drama]</td>\n",
       "      <td>0202641</td>\n",
       "      <td>https://www.imdb.com/title/tt0202641/plotsummary</td>\n",
       "    </tr>\n",
       "    <tr>\n",
       "      <th>3952</th>\n",
       "      <td>Contender, The (2000)</td>\n",
       "      <td>[Drama, Thriller]</td>\n",
       "      <td>0208874</td>\n",
       "      <td>https://www.imdb.com/title/tt0208874/plotsummary</td>\n",
       "    </tr>\n",
       "  </tbody>\n",
       "</table>\n",
       "<p>3849 rows × 4 columns</p>\n",
       "</div>"
      ],
      "text/plain": [
       "                                      title                            genres  \\\n",
       "movieId                                                                         \n",
       "1                          Toy Story (1995)   [Animation, Children's, Comedy]   \n",
       "2                            Jumanji (1995)  [Adventure, Children's, Fantasy]   \n",
       "3                   Grumpier Old Men (1995)                 [Comedy, Romance]   \n",
       "4                  Waiting to Exhale (1995)                   [Comedy, Drama]   \n",
       "5        Father of the Bride Part II (1995)                          [Comedy]   \n",
       "...                                     ...                               ...   \n",
       "3948                Meet the Parents (2000)                          [Comedy]   \n",
       "3949             Requiem for a Dream (2000)                           [Drama]   \n",
       "3950                       Tigerland (2000)                           [Drama]   \n",
       "3951                Two Family House (2000)                           [Drama]   \n",
       "3952                  Contender, The (2000)                 [Drama, Thriller]   \n",
       "\n",
       "          imdbId                                          imdb_url  \n",
       "movieId                                                             \n",
       "1        0114709  https://www.imdb.com/title/tt0114709/plotsummary  \n",
       "2        0113497  https://www.imdb.com/title/tt0113497/plotsummary  \n",
       "3        0113228  https://www.imdb.com/title/tt0113228/plotsummary  \n",
       "4        0114885  https://www.imdb.com/title/tt0114885/plotsummary  \n",
       "5        0113041  https://www.imdb.com/title/tt0113041/plotsummary  \n",
       "...          ...                                               ...  \n",
       "3948     0212338  https://www.imdb.com/title/tt0212338/plotsummary  \n",
       "3949     0180093  https://www.imdb.com/title/tt0180093/plotsummary  \n",
       "3950     0170691  https://www.imdb.com/title/tt0170691/plotsummary  \n",
       "3951     0202641  https://www.imdb.com/title/tt0202641/plotsummary  \n",
       "3952     0208874  https://www.imdb.com/title/tt0208874/plotsummary  \n",
       "\n",
       "[3849 rows x 4 columns]"
      ]
     },
     "execution_count": 10,
     "metadata": {},
     "output_type": "execute_result"
    }
   ],
   "source": [
    "# split genres column into a list of genres\n",
    "movies1m[\"genres\"] = movies1m[\"genres\"].str.split(\"|\")\n",
    "movies1m"
   ]
  },
  {
   "cell_type": "code",
   "execution_count": 11,
   "metadata": {},
   "outputs": [],
   "source": [
    "# extract imdb_url as a list\n",
    "imdb_urls = movies1m[\"imdb_url\"].tolist()\n",
    "\n",
    "# save imdb_urls to a file\n",
    "with open(\"../data/imdb_urls.txt\", \"w\") as f:\n",
    "    f.write(\"\\n\".join(imdb_urls))\n"
   ]
  },
  {
   "attachments": {},
   "cell_type": "markdown",
   "metadata": {},
   "source": [
    "Now you can run the `scrape-movie-medata` target!"
   ]
  }
 ],
 "metadata": {
  "kernelspec": {
   "display_name": "Python 3",
   "language": "python",
   "name": "python3"
  },
  "language_info": {
   "codemirror_mode": {
    "name": "ipython",
    "version": 3
   },
   "file_extension": ".py",
   "mimetype": "text/x-python",
   "name": "python",
   "nbconvert_exporter": "python",
   "pygments_lexer": "ipython3",
   "version": "3.10.9"
  },
  "orig_nbformat": 4,
  "vscode": {
   "interpreter": {
    "hash": "949777d72b0d2535278d3dc13498b2535136f6dfe0678499012e853ee9abcab1"
   }
  }
 },
 "nbformat": 4,
 "nbformat_minor": 2
}
