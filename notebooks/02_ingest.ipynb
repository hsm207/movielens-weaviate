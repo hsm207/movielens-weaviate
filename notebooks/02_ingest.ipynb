{
 "cells": [
  {
   "attachments": {},
   "cell_type": "markdown",
   "metadata": {},
   "source": [
    "# Ingest"
   ]
  },
  {
   "cell_type": "code",
   "execution_count": 1,
   "metadata": {},
   "outputs": [],
   "source": [
    "import pandas as pd\n",
    "from weaviate import Client\n"
   ]
  },
  {
   "attachments": {},
   "cell_type": "markdown",
   "metadata": {},
   "source": [
    "# Setup"
   ]
  },
  {
   "cell_type": "code",
   "execution_count": 2,
   "metadata": {},
   "outputs": [],
   "source": [
    "# connect to the weaviate instance at weaviate:8080\n",
    "client = Client(\"http://weaviate:8080\")\n"
   ]
  },
  {
   "cell_type": "code",
   "execution_count": 3,
   "metadata": {},
   "outputs": [
    {
     "data": {
      "text/plain": [
       "<weaviate.batch.crud_batch.Batch at 0x7fc98d59d330>"
      ]
     },
     "execution_count": 3,
     "metadata": {},
     "output_type": "execute_result"
    }
   ],
   "source": [
    "# configure client to use batch size 100 and 1 worker\n",
    "client.batch.configure(batch_size=1, num_workers=1)\n"
   ]
  },
  {
   "cell_type": "code",
   "execution_count": 4,
   "metadata": {},
   "outputs": [],
   "source": [
    "client.schema.delete_all()\n"
   ]
  },
  {
   "attachments": {},
   "cell_type": "markdown",
   "metadata": {},
   "source": [
    "# Schemas"
   ]
  },
  {
   "cell_type": "code",
   "execution_count": 5,
   "metadata": {},
   "outputs": [],
   "source": [
    "genre_class_schema = {\n",
    "    \"class\": \"Genre\",\n",
    "    \"description\": \"A genre of a movie\",\n",
    "    \"moduleConfig\": {\n",
    "        \"text2vec-transformers\": {\n",
    "            \"poolingStrategy\": \"masked_mean\"\n",
    "        }\n",
    "    },\n",
    "    \"properties\": [\n",
    "        {\n",
    "            \"dataType\": [\n",
    "                \"string\"\n",
    "            ],\n",
    "            \"description\": \"The name of the genre\",\n",
    "            \"name\": \"name\",\n",
    "        }\n",
    "    ],\n",
    "    \"vectorizer\": \"text2vec-transformers\"\n",
    "}\n",
    "\n",
    "client.schema.create_class(genre_class_schema)\n"
   ]
  },
  {
   "cell_type": "code",
   "execution_count": 6,
   "metadata": {},
   "outputs": [],
   "source": [
    "movie_class_schema = {\n",
    "    \"class\": \"Movie\",\n",
    "    \"description\": \"A movie\",\n",
    "    \"moduleConfig\": {\n",
    "        \"text2vec-transformers\": {\n",
    "            \"poolingStrategy\": \"masked_mean\",\n",
    "        }\n",
    "    },\n",
    "    \"properties\": [\n",
    "        {\n",
    "            \"dataType\": [\"text\"],\n",
    "            \"description\": \"The title of the movie\",\n",
    "            \"name\": \"title\",\n",
    "        },\n",
    "        {\n",
    "            \"dataType\": [\"text\"],\n",
    "            \"description\": \"The plot of the movie\",\n",
    "            \"name\": \"plot\",\n",
    "        },\n",
    "        {\n",
    "            \"dataType\": [\"text\"],\n",
    "            \"description\": \"The summary of the movie\",\n",
    "            \"name\": \"summary\",\n",
    "        },\n",
    "        {\n",
    "            \"dataType\": [\"Genre\"],\n",
    "            \"description\": \"The genres of the movie\",\n",
    "            \"name\": \"genres\",\n",
    "        }\n",
    "    ],\n",
    "    \"vectorizer\": \"text2vec-transformers\"\n",
    "}\n",
    "\n",
    "client.schema.create_class(movie_class_schema)"
   ]
  },
  {
   "cell_type": "code",
   "execution_count": 7,
   "metadata": {},
   "outputs": [],
   "source": [
    "user_class_schema = None\n"
   ]
  },
  {
   "attachments": {},
   "cell_type": "markdown",
   "metadata": {},
   "source": [
    "# Documents"
   ]
  },
  {
   "cell_type": "code",
   "execution_count": 8,
   "metadata": {},
   "outputs": [
    {
     "data": {
      "text/html": [
       "<div>\n",
       "<style scoped>\n",
       "    .dataframe tbody tr th:only-of-type {\n",
       "        vertical-align: middle;\n",
       "    }\n",
       "\n",
       "    .dataframe tbody tr th {\n",
       "        vertical-align: top;\n",
       "    }\n",
       "\n",
       "    .dataframe thead th {\n",
       "        text-align: right;\n",
       "    }\n",
       "</style>\n",
       "<table border=\"1\" class=\"dataframe\">\n",
       "  <thead>\n",
       "    <tr style=\"text-align: right;\">\n",
       "      <th></th>\n",
       "      <th>title</th>\n",
       "      <th>plot</th>\n",
       "      <th>summary</th>\n",
       "      <th>genres</th>\n",
       "      <th>poster_url</th>\n",
       "      <th>imdb_url</th>\n",
       "    </tr>\n",
       "    <tr>\n",
       "      <th>movieId</th>\n",
       "      <th></th>\n",
       "      <th></th>\n",
       "      <th></th>\n",
       "      <th></th>\n",
       "      <th></th>\n",
       "      <th></th>\n",
       "    </tr>\n",
       "  </thead>\n",
       "  <tbody>\n",
       "    <tr>\n",
       "      <th>3309</th>\n",
       "      <td>Dog's Life, A (1920)</td>\n",
       "      <td>The Little Tramp and his dog companion struggl...</td>\n",
       "      <td>Poor Charlie lives in a vacant lot. He tries t...</td>\n",
       "      <td>[Comedy]</td>\n",
       "      <td>https://m.media-amazon.com/images/M/MV5BYWFkMj...</td>\n",
       "      <td>https://www.imdb.com/title/tt0009018/plotsummary</td>\n",
       "    </tr>\n",
       "    <tr>\n",
       "      <th>3132</th>\n",
       "      <td>Daddy Long Legs (1919)</td>\n",
       "      <td>An orphan discovers that she has an anonymous ...</td>\n",
       "      <td>Wealthy Jervis Pendleton acts as benefactor fo...</td>\n",
       "      <td>[Comedy]</td>\n",
       "      <td>https://m.media-amazon.com/images/M/MV5BMWYwYT...</td>\n",
       "      <td>https://www.imdb.com/title/tt0010040/plotsummary</td>\n",
       "    </tr>\n",
       "    <tr>\n",
       "      <th>2821</th>\n",
       "      <td>Male and Female (1919)</td>\n",
       "      <td>Lady Mary Lasenby is a spoiled maiden who alwa...</td>\n",
       "      <td>Lord Brockelhurst, his unwilling betrothed Lad...</td>\n",
       "      <td>[Adventure, Drama]</td>\n",
       "      <td>https://m.media-amazon.com/images/M/MV5BODE2ZT...</td>\n",
       "      <td>https://www.imdb.com/title/tt0010418/plotsummary</td>\n",
       "    </tr>\n",
       "    <tr>\n",
       "      <th>2823</th>\n",
       "      <td>Spiders, The (Die Spinnen, 1. Teil: Der Golden...</td>\n",
       "      <td>Kay Hoog finds a message that indicates that s...</td>\n",
       "      <td>In San Francisco, the sportsman Kay Hoog tells...</td>\n",
       "      <td>[Action, Drama]</td>\n",
       "      <td>https://m.media-amazon.com/images/M/MV5BMTY2MD...</td>\n",
       "      <td>https://www.imdb.com/title/tt0010726/plotsummary</td>\n",
       "    </tr>\n",
       "    <tr>\n",
       "      <th>3231</th>\n",
       "      <td>Saphead, The (1920)</td>\n",
       "      <td>The simple-minded son of a rich financier must...</td>\n",
       "      <td>Nick Van Alstyne owns the Henrietta silver min...</td>\n",
       "      <td>[Comedy]</td>\n",
       "      <td>https://m.media-amazon.com/images/M/MV5BZDNiOD...</td>\n",
       "      <td>https://www.imdb.com/title/tt0011652/plotsummary</td>\n",
       "    </tr>\n",
       "  </tbody>\n",
       "</table>\n",
       "</div>"
      ],
      "text/plain": [
       "                                                     title  \\\n",
       "movieId                                                      \n",
       "3309                                  Dog's Life, A (1920)   \n",
       "3132                                Daddy Long Legs (1919)   \n",
       "2821                                Male and Female (1919)   \n",
       "2823     Spiders, The (Die Spinnen, 1. Teil: Der Golden...   \n",
       "3231                                   Saphead, The (1920)   \n",
       "\n",
       "                                                      plot  \\\n",
       "movieId                                                      \n",
       "3309     The Little Tramp and his dog companion struggl...   \n",
       "3132     An orphan discovers that she has an anonymous ...   \n",
       "2821     Lady Mary Lasenby is a spoiled maiden who alwa...   \n",
       "2823     Kay Hoog finds a message that indicates that s...   \n",
       "3231     The simple-minded son of a rich financier must...   \n",
       "\n",
       "                                                   summary  \\\n",
       "movieId                                                      \n",
       "3309     Poor Charlie lives in a vacant lot. He tries t...   \n",
       "3132     Wealthy Jervis Pendleton acts as benefactor fo...   \n",
       "2821     Lord Brockelhurst, his unwilling betrothed Lad...   \n",
       "2823     In San Francisco, the sportsman Kay Hoog tells...   \n",
       "3231     Nick Van Alstyne owns the Henrietta silver min...   \n",
       "\n",
       "                     genres  \\\n",
       "movieId                       \n",
       "3309               [Comedy]   \n",
       "3132               [Comedy]   \n",
       "2821     [Adventure, Drama]   \n",
       "2823        [Action, Drama]   \n",
       "3231               [Comedy]   \n",
       "\n",
       "                                                poster_url  \\\n",
       "movieId                                                      \n",
       "3309     https://m.media-amazon.com/images/M/MV5BYWFkMj...   \n",
       "3132     https://m.media-amazon.com/images/M/MV5BMWYwYT...   \n",
       "2821     https://m.media-amazon.com/images/M/MV5BODE2ZT...   \n",
       "2823     https://m.media-amazon.com/images/M/MV5BMTY2MD...   \n",
       "3231     https://m.media-amazon.com/images/M/MV5BZDNiOD...   \n",
       "\n",
       "                                                 imdb_url  \n",
       "movieId                                                    \n",
       "3309     https://www.imdb.com/title/tt0009018/plotsummary  \n",
       "3132     https://www.imdb.com/title/tt0010040/plotsummary  \n",
       "2821     https://www.imdb.com/title/tt0010418/plotsummary  \n",
       "2823     https://www.imdb.com/title/tt0010726/plotsummary  \n",
       "3231     https://www.imdb.com/title/tt0011652/plotsummary  "
      ]
     },
     "execution_count": 8,
     "metadata": {},
     "output_type": "execute_result"
    }
   ],
   "source": [
    "# read the postprocessed movies parquet file\n",
    "movies = pd.read_parquet(\"../data/movies_postprocessed.parquet\")\n",
    "movies.head()\n"
   ]
  },
  {
   "attachments": {},
   "cell_type": "markdown",
   "metadata": {},
   "source": [
    "# Ingest"
   ]
  },
  {
   "attachments": {},
   "cell_type": "markdown",
   "metadata": {},
   "source": [
    "## Genres"
   ]
  },
  {
   "attachments": {},
   "cell_type": "markdown",
   "metadata": {},
   "source": [
    "Get unique genres from the genres column:"
   ]
  },
  {
   "cell_type": "code",
   "execution_count": 9,
   "metadata": {},
   "outputs": [
    {
     "data": {
      "text/plain": [
       "['Comedy',\n",
       " 'Adventure',\n",
       " 'Drama',\n",
       " 'Action',\n",
       " 'Horror',\n",
       " 'War',\n",
       " 'Crime',\n",
       " 'Thriller',\n",
       " 'Sci-Fi',\n",
       " 'Romance',\n",
       " 'Animation',\n",
       " \"Children's\",\n",
       " 'Musical',\n",
       " 'Documentary',\n",
       " 'Mystery',\n",
       " 'Western',\n",
       " 'Film-Noir',\n",
       " 'Fantasy']"
      ]
     },
     "execution_count": 9,
     "metadata": {},
     "output_type": "execute_result"
    }
   ],
   "source": [
    "# get the genres column\n",
    "# explode the genres column to get a row for each genre\n",
    "# make it unique\n",
    "# and convert it to a list\n",
    "genres = movies[\"genres\"].explode().unique().tolist()\n",
    "genres\n"
   ]
  },
  {
   "cell_type": "code",
   "execution_count": 10,
   "metadata": {},
   "outputs": [],
   "source": [
    "with client.batch as batch:\n",
    "    created_genres = {genre: batch.add_data_object(\n",
    "        {\"name\": genre}, class_name=\"Genre\") for genre in genres}\n"
   ]
  },
  {
   "attachments": {},
   "cell_type": "markdown",
   "metadata": {},
   "source": [
    "## Movies"
   ]
  },
  {
   "cell_type": "code",
   "execution_count": 11,
   "metadata": {},
   "outputs": [],
   "source": [
    "# sample 5 movies from movies\n",
    "# df = movies.sample(5, random_state=42)\n",
    "df = movies\n"
   ]
  },
  {
   "cell_type": "code",
   "execution_count": 12,
   "metadata": {},
   "outputs": [],
   "source": [
    "# loop through the title, plot and summary columns\n",
    "# and add the data objects to the batch\n",
    "with client.batch as batch:\n",
    "    for index, row in df.iterrows():\n",
    "        movie_uuid = batch.add_data_object(\n",
    "            {\n",
    "                \"title\": row[\"title\"],\n",
    "                \"plot\": row[\"plot\"],\n",
    "                \"summary\": row[\"summary\"],\n",
    "            },\n",
    "            class_name=\"Movie\"\n",
    "        )\n",
    "\n",
    "        # convert the genres to a list of genre uuids\n",
    "        genre_uuids = [created_genres[genre] for genre in row[\"genres\"]]\n",
    "\n",
    "        # add the reference (movie has genres)\n",
    "        for genre_uuid in genre_uuids:\n",
    "            batch.add_reference(\n",
    "                from_object_uuid=movie_uuid,\n",
    "                from_object_class_name=\"Movie\",\n",
    "                from_property_name=\"genres\",\n",
    "                to_object_uuid=genre_uuid,\n",
    "                to_object_class_name=\"Genre\"\n",
    "            )\n"
   ]
  },
  {
   "attachments": {},
   "cell_type": "markdown",
   "metadata": {},
   "source": [
    "Confirm that all objects have been uploaded: "
   ]
  },
  {
   "cell_type": "code",
   "execution_count": 27,
   "metadata": {},
   "outputs": [],
   "source": [
    "num_movies = movies.shape[0]\n",
    "num_genres = len(genres)\n",
    "\n",
    "num_movie_objects = client.query.aggregate(\"Movie\").with_meta_count().do()[\"data\"][\"Aggregate\"][\"Movie\"][0][\"meta\"][\"count\"]\n",
    "num_genre_objects = client.query.aggregate(\"Genre\").with_meta_count().do()[\"data\"][\"Aggregate\"][\"Genre\"][0][\"meta\"][\"count\"]\n",
    "\n",
    "assert num_movie_objects == num_movies\n",
    "assert num_genres == num_genre_objects"
   ]
  },
  {
   "cell_type": "code",
   "execution_count": null,
   "metadata": {},
   "outputs": [],
   "source": []
  }
 ],
 "metadata": {
  "kernelspec": {
   "display_name": "Python 3",
   "language": "python",
   "name": "python3"
  },
  "language_info": {
   "codemirror_mode": {
    "name": "ipython",
    "version": 3
   },
   "file_extension": ".py",
   "mimetype": "text/x-python",
   "name": "python",
   "nbconvert_exporter": "python",
   "pygments_lexer": "ipython3",
   "version": "3.10.9"
  },
  "orig_nbformat": 4,
  "vscode": {
   "interpreter": {
    "hash": "949777d72b0d2535278d3dc13498b2535136f6dfe0678499012e853ee9abcab1"
   }
  }
 },
 "nbformat": 4,
 "nbformat_minor": 2
}
