{
 "cells": [
  {
   "attachments": {},
   "cell_type": "markdown",
   "metadata": {},
   "source": [
    "# Imports"
   ]
  },
  {
   "cell_type": "code",
   "execution_count": null,
   "metadata": {},
   "outputs": [],
   "source": [
    "import math\n",
    "\n",
    "import matplotlib.pyplot as plt\n",
    "import numpy as np\n",
    "import pandas as pd\n",
    "from skimage import io\n",
    "from weaviate import Client"
   ]
  },
  {
   "attachments": {},
   "cell_type": "markdown",
   "metadata": {},
   "source": [
    "# Data"
   ]
  },
  {
   "cell_type": "code",
   "execution_count": null,
   "metadata": {},
   "outputs": [],
   "source": [
    "# read the movies postprocess parquet file\n",
    "movies = pd.read_parquet(\"../data/movies_postprocessed.parquet\")\n",
    "movies.head()\n"
   ]
  },
  {
   "attachments": {},
   "cell_type": "markdown",
   "metadata": {},
   "source": [
    "# Weaviate"
   ]
  },
  {
   "cell_type": "code",
   "execution_count": null,
   "metadata": {},
   "outputs": [],
   "source": [
    "# connect to the weaviate instance at weaviate:8080\n",
    "client = Client(\"http://weaviate:8080\")\n",
    "\n",
    "client.cluster.get_nodes_status()\n"
   ]
  },
  {
   "attachments": {},
   "cell_type": "markdown",
   "metadata": {},
   "source": [
    "Get the movie classes:"
   ]
  },
  {
   "cell_type": "code",
   "execution_count": null,
   "metadata": {},
   "outputs": [],
   "source": [
    "movie_classes = client.schema.get()[\"classes\"]\n",
    "\n",
    "movie_classes = [movie_class[\"class\"]\n",
    "                 for movie_class in movie_classes if movie_class[\"class\"].startswith(\"Movie\")]\n",
    "\n",
    "movie_classes\n"
   ]
  },
  {
   "attachments": {},
   "cell_type": "markdown",
   "metadata": {},
   "source": [
    "# Schema"
   ]
  },
  {
   "attachments": {},
   "cell_type": "markdown",
   "metadata": {},
   "source": [
    "Define a schema to represent the a user's viewing history:"
   ]
  },
  {
   "cell_type": "code",
   "execution_count": null,
   "metadata": {},
   "outputs": [],
   "source": [
    "# make a copy of movie_classes\n",
    "# replace Movie with View in each element\n",
    "view_classes = [movie_class.replace(\"Movie\", \"View\")\n",
    "                for movie_class in movie_classes]\n",
    "view_classes\n"
   ]
  },
  {
   "cell_type": "code",
   "execution_count": null,
   "metadata": {},
   "outputs": [],
   "source": [
    "# delete the View schemas if it exists\n",
    "for view_class in view_classes:\n",
    "    try:\n",
    "        client.schema.delete_class(view_class)\n",
    "    except Exception as e:\n",
    "        print(e)\n"
   ]
  },
  {
   "cell_type": "code",
   "execution_count": null,
   "metadata": {},
   "outputs": [],
   "source": [
    "for view_class, movie_class in zip(view_classes, movie_classes):\n",
    "\n",
    "    view_class_schema = {\n",
    "        \"class\": view_class,\n",
    "        \"description\": f\"The movies a user has watched\",\n",
    "        \"moduleConfig\": {\n",
    "            \"ref2vec-centroid\": {\n",
    "                \"referenceProperties\": [\"movies\"],\n",
    "                \"method\": \"mean\"\n",
    "            }\n",
    "        },\n",
    "        \"properties\": [\n",
    "            {\n",
    "                \"dataType\": [\"string\"],\n",
    "                \"name\": \"user_id\",\n",
    "                \"description\": \"The user id\",\n",
    "\n",
    "            },\n",
    "            {\n",
    "                \"dataType\": [movie_class],\n",
    "                \"name\": \"movies\",\n",
    "                \"description\": \"The movies the user has watched\",\n",
    "            }\n",
    "        ],\n",
    "        \"vectorizer\": \"ref2vec-centroid\"\n",
    "    }\n",
    "\n",
    "    # create the View schema\n",
    "    client.schema.create_class(view_class_schema)\n"
   ]
  },
  {
   "cell_type": "code",
   "execution_count": null,
   "metadata": {},
   "outputs": [],
   "source": [
    "client.schema.get(\"ViewCos\")\n"
   ]
  },
  {
   "attachments": {},
   "cell_type": "markdown",
   "metadata": {},
   "source": [
    "# Demo"
   ]
  },
  {
   "attachments": {},
   "cell_type": "markdown",
   "metadata": {},
   "source": [
    "Define a dummy user with a viewing history:"
   ]
  },
  {
   "cell_type": "code",
   "execution_count": null,
   "metadata": {},
   "outputs": [],
   "source": [
    "user_id = \"test_user\"\n",
    "\n",
    "# sleeping beauty, aladdin and the little mermaid\n",
    "# movie_ids = [\"2096\", \"588\", \"2081\"]\n",
    "\n",
    "# mortal kombat, mortal kombat annihilation, street fighter\n",
    "# movie_ids = [\"44\", \"1681\", \"393\"]\n",
    "\n",
    "\n",
    "# the running man, \"demolition man\", \"assassins\"\n",
    "# movie_ids = [\"3698\", \"442\", \"23\"]\n",
    "\n",
    "# cinderella, peter pan, Lady and the Tramp, sleeping beauty, the jungle book\n",
    "movie_ids = [\"1022\", \"2087\", \"2080\", \"2096\", \"362\"]\n"
   ]
  },
  {
   "cell_type": "code",
   "execution_count": null,
   "metadata": {},
   "outputs": [],
   "source": [
    "# define a function to get the movie's uuid from the movie id\n",
    "def get_movie_uuid(movie_id, movie_class=\"MovieCos\"):\n",
    "    where_filter = {\n",
    "        \"path\": [\"movie_id\"],\n",
    "        \"operator\": \"Equal\",\n",
    "        \"valueString\": movie_id}\n",
    "\n",
    "\n",
    "    result = client.query.get(movie_class).with_additional(\n",
    "        \"id\").with_where(where_filter).do()\n",
    "\n",
    "    return result.get('data').get('Get').get(movie_class)[0].get('_additional').get('id')\n"
   ]
  },
  {
   "cell_type": "code",
   "execution_count": null,
   "metadata": {},
   "outputs": [],
   "source": [
    "# define a function to build the user's view history\n",
    "def build_user_view_history(user_id, movie_ids, view_class=\"ViewCos\", movie_class=\"MovieCos\"):\n",
    "    with client.batch() as batch:\n",
    "        movie_uuids = [get_movie_uuid(movie_id, movie_class=movie_class)\n",
    "                       for movie_id in movie_ids]\n",
    "\n",
    "        user_uuid = client.data_object.create(\n",
    "            {\"user_id\": user_id}, class_name=view_class)\n",
    "\n",
    "        for movie_uuid in movie_uuids:\n",
    "            client.data_object.reference.add(\n",
    "                from_uuid=user_uuid,\n",
    "                from_property_name=\"movies\",\n",
    "                to_uuid=movie_uuid,\n",
    "                from_class_name=view_class,\n",
    "                to_class_name=movie_class)\n"
   ]
  },
  {
   "cell_type": "code",
   "execution_count": null,
   "metadata": {},
   "outputs": [],
   "source": [
    "for view_class, movie_class in zip(view_classes, movie_classes):\n",
    "    build_user_view_history(user_id, movie_ids, view_class, movie_class)\n"
   ]
  },
  {
   "cell_type": "code",
   "execution_count": null,
   "metadata": {},
   "outputs": [],
   "source": [
    "# TODO: checkout if this is a bug in the client and/or ref2vec module\n",
    "# with client.batch() as batch:\n",
    "#     # user_uuid = batch.add_data_object({\n",
    "#     #     \"user_id\": user_id,\n",
    "#     # }, class_name=\"View\"\n",
    "#     # )\n",
    "\n",
    "#     user_uuid = client.data_object.create(\n",
    "#         {\"user_id\": user_id}, class_name=\"View\")\n",
    "\n",
    "#     for movie_uuid in movie_uuids:\n",
    "#         # batch.add_reference(\n",
    "#         #     from_object_uuid=user_uuid,\n",
    "#         #     from_object_class_name=\"View\",\n",
    "#         #     from_property_name=\"movies\",\n",
    "#         #     to_object_uuid=movie_uuid,\n",
    "#         #     to_object_class_name=\"Movie\"\n",
    "#         # )\n",
    "#         client.data_object.reference.add(\n",
    "#             from_uuid=user_uuid,\n",
    "#             from_property_name=\"movies\",\n",
    "#             to_uuid=movie_uuid,\n",
    "#             from_class_name=\"View\",\n",
    "#             to_class_name=\"Movie\"\n",
    "#         )\n"
   ]
  },
  {
   "attachments": {},
   "cell_type": "markdown",
   "metadata": {},
   "source": [
    "Let's sanity check the embeddings that ref2vec has generated for the user:"
   ]
  },
  {
   "cell_type": "code",
   "execution_count": null,
   "metadata": {},
   "outputs": [],
   "source": [
    "# define a function to get a user's vector given a view class and user id\n",
    "def get_user_vector(user_id, view_class=\"ViewCos\"):\n",
    "    where_filter = {\n",
    "        \"path\": [\"user_id\"],\n",
    "        \"operator\": \"Equal\",\n",
    "        \"valueString\": user_id}\n",
    "\n",
    "    result = client.query.get(view_class).with_additional(\n",
    "        \"vector\").with_where(where_filter).do()\n",
    "\n",
    "    return result.get('data').get('Get').get(view_class)[0].get('_additional').get('vector')\n"
   ]
  },
  {
   "cell_type": "code",
   "execution_count": null,
   "metadata": {},
   "outputs": [],
   "source": [
    "# define a function to get a movie's vector given a movie class and movie id\n",
    "def get_movie_vector(movie_id, movie_class=\"MovieCos\"):\n",
    "    where_filter = {\n",
    "        \"path\": [\"movie_id\"],\n",
    "        \"operator\": \"Equal\",\n",
    "        \"valueString\": movie_id}\n",
    "\n",
    "    result = client.query.get(movie_class).with_additional(\n",
    "        \"vector\").with_where(where_filter).do()\n",
    "\n",
    "    return result.get('data').get('Get').get(movie_class)[0].get('_additional').get('vector')\n"
   ]
  },
  {
   "cell_type": "code",
   "execution_count": null,
   "metadata": {},
   "outputs": [],
   "source": [
    "user_embeddings = []\n",
    "\n",
    "# check 1: in each view,movie class, the user's vector should be the average of the movie vectors\n",
    "\n",
    "# zip the view classes and movie classes together and iterate over them\n",
    "for view_class, movie_class in zip(view_classes, movie_classes):\n",
    "    user_embedding = get_user_vector(user_id, view_class)\n",
    "    user_embeddings.append(user_embedding)\n",
    "\n",
    "    movie_embeddings = [get_movie_vector(\n",
    "        movie_id, movie_class) for movie_id in movie_ids]\n",
    "\n",
    "    # compute the mean of movie embeddings\n",
    "    mean_movie_embedding = np.mean(movie_embeddings, axis=0)\n",
    "\n",
    "    # is mean_movie_embedding close to user_embedding?\n",
    "    assert np.allclose(mean_movie_embedding, user_embedding)\n",
    "\n",
    "# check 2: the user embeddings should be the same across view classes\n",
    "\n",
    "# loop from the second element to the end of user_embeddings\n",
    "for i in range(1, len(user_embeddings)):\n",
    "    # compare the previous user embedding to the current user embedding\n",
    "    assert np.allclose(user_embeddings[i-1], user_embeddings[i])\n"
   ]
  },
  {
   "attachments": {},
   "cell_type": "markdown",
   "metadata": {},
   "source": [
    "Now we find the nearest movies to the `user_embedding`:"
   ]
  },
  {
   "cell_type": "code",
   "execution_count": null,
   "metadata": {},
   "outputs": [],
   "source": [
    "def build_movie_id_exclude_filter(movie_ids, genre=None):\n",
    "    operands = [{\"path\": [\"movie_id\"], \"operator\": \"NotEqual\",\n",
    "                 \"valueString\": movie_id} for movie_id in movie_ids]\n",
    "\n",
    "    if genre:\n",
    "        operands = operands + \\\n",
    "            [{\"path\": [\"genres\", \"Genre\", \"name\"],\n",
    "                \"operator\": \"Equal\", \"valueString\": genre}]\n",
    "\n",
    "    return {\n",
    "        \"operator\": \"And\",\n",
    "        \"operands\": operands\n",
    "    }\n"
   ]
  },
  {
   "cell_type": "code",
   "execution_count": null,
   "metadata": {},
   "outputs": [],
   "source": [
    "# define a function to generate recommendations given a user embedding\n",
    "def get_recommendations(user_embedding, watched_movie_ids, genre_constraint=None, movie_class=\"MovieCos\", top_k=10):\n",
    "    nearVector = {\n",
    "        \"vector\": user_embedding,\n",
    "    }\n",
    "\n",
    "    movies = (\n",
    "        client.query\n",
    "        .get(movie_class, properties=[\"movie_id\", \"title\", \"plot\", \"genres {... on Genre {name}}\", \"poster_url\"])\n",
    "        .with_near_vector(nearVector)\n",
    "        .with_where(build_movie_id_exclude_filter(watched_movie_ids, genre=genre_constraint))\n",
    "        .with_additional(\"distance\")\n",
    "        .with_limit(top_k)\n",
    "        .do()\n",
    "    )\n",
    "\n",
    "    movies = movies.get('data').get('Get').get(movie_class)\n",
    "    return movies\n"
   ]
  },
  {
   "cell_type": "code",
   "execution_count": null,
   "metadata": {},
   "outputs": [],
   "source": [
    "# define a function to get poster images from a list of movie ids\n",
    "def get_poster_images(movie_ids):\n",
    "    poster_urls = movies.loc[movie_ids][\"poster_url\"].tolist()\n",
    "    images = [io.imread(url) for url in poster_urls]\n",
    "    return images\n"
   ]
  },
  {
   "cell_type": "code",
   "execution_count": null,
   "metadata": {},
   "outputs": [],
   "source": [
    "\n",
    "def visualize_results(history_movie_ids, rec_movie_ids):\n",
    "\n",
    "    # based on https://stackoverflow.com/questions/70083434/combine-two-matplotlib-figures-side-by-side-high-quality\n",
    "    fig = plt.figure(constrained_layout=True, figsize=(6, 2), dpi=500)\n",
    "    titles_size = 12\n",
    "    labels_size = 18\n",
    "    subfigs = fig.subfigures(1, 2, wspace=0.1, hspace=0)\n",
    "    subfigs[0].suptitle('If you liked these ...', fontsize=titles_size)\n",
    "    subfigs[1].suptitle('Then, you might like these', fontsize=titles_size)\n",
    "\n",
    "    axsLeft = subfigs[0].subplots(2, 5)\n",
    "    axsRight = subfigs[1].subplots(2, 5)\n",
    "\n",
    "    rec_images = get_poster_images(rec_movie_ids)\n",
    "    history_images = get_poster_images(history_movie_ids)\n",
    "\n",
    "    for ax_idx, ax in enumerate(axsLeft.reshape(-1)):\n",
    "        ax.grid(False)\n",
    "        ax.set_xticklabels([])\n",
    "        ax.set_yticklabels([])\n",
    "        ax.axes.xaxis.set_visible(False)\n",
    "        ax.axes.yaxis.set_visible(False)\n",
    "        ax.axis('off')\n",
    "\n",
    "    for ax_idx, ax in enumerate(axsRight.reshape(-1)):\n",
    "        ax.grid(False)\n",
    "        ax.set_xticklabels([])\n",
    "        ax.set_yticklabels([])\n",
    "        ax.axes.xaxis.set_visible(False)\n",
    "        ax.axes.yaxis.set_visible(False)\n",
    "        ax.axis('off')\n",
    "\n",
    "    # flatten axsleft and loop through it to plot the history images\n",
    "    for ax_idx, ax in enumerate(axsLeft.reshape(-1)):\n",
    "        if ax_idx < len(history_images):\n",
    "            ax.imshow(history_images[ax_idx])\n",
    "\n",
    "    # flatten axsright and loop through it to plot the rec images\n",
    "    for ax_idx, ax in enumerate(axsRight.reshape(-1)):\n",
    "        ax.imshow(rec_images[ax_idx])\n",
    "        ax.axis('off')\n",
    "\n",
    "    return fig\n"
   ]
  },
  {
   "cell_type": "code",
   "execution_count": null,
   "metadata": {},
   "outputs": [],
   "source": [
    "recs = get_recommendations(user_embeddings[0], watched_movie_ids=movie_ids,\n",
    "                           genre_constraint=None, top_k=10, movie_class=movie_classes[0])\n",
    "\n",
    "# extract the movie ids from the recommendations\n",
    "rec_movie_ids = [rec[\"movie_id\"] for rec in recs]\n",
    "\n",
    "fig = visualize_results(movie_ids, rec_movie_ids)\n",
    "fig;\n"
   ]
  },
  {
   "attachments": {},
   "cell_type": "markdown",
   "metadata": {},
   "source": [
    "Same recommendation but with a genre filter:"
   ]
  },
  {
   "cell_type": "code",
   "execution_count": null,
   "metadata": {},
   "outputs": [],
   "source": [
    "recs = get_recommendations(user_embeddings[0], watched_movie_ids=movie_ids,\n",
    "                           genre_constraint=\"Children's\", top_k=10, movie_class=movie_classes[0])\n",
    "\n",
    "rec_movie_ids = [rec[\"movie_id\"] for rec in recs]\n",
    "\n",
    "fig = visualize_results(movie_ids, rec_movie_ids)\n",
    "fig;\n"
   ]
  },
  {
   "attachments": {},
   "cell_type": "markdown",
   "metadata": {},
   "source": [
    "Let's visualize how the recommendations change as we change the distance metric:"
   ]
  },
  {
   "cell_type": "code",
   "execution_count": null,
   "metadata": {},
   "outputs": [],
   "source": [
    "def extract_distance_function(movie_class):\n",
    "    return client.schema.get(movie_class)[\"vectorIndexConfig\"][\"distance\"]\n",
    "\n",
    "\n",
    "def visualize_recs_across_distance_metrics(user_embedding, watched_movie_ids, genre_constraint=None, top_k=10):\n",
    "\n",
    "    # create a figure with constrained layout, figsize and dpi\n",
    "    fig, ax = plt.subplots(constrained_layout=True, figsize=(10, 20), dpi=1000)\n",
    "\n",
    "    # create a 5 x 1 grid of subfigures\n",
    "    subfigs = fig.subfigures(5, 1)\n",
    "\n",
    "    # enumerate over the movie classes and subfigures\n",
    "    for movie_class, subfig in zip(movie_classes, subfigs):\n",
    "        # extract the distance function from the movie class\n",
    "        distance_function = extract_distance_function(movie_class)\n",
    "        # set the title of the subfigure and make it bold\n",
    "        subfig.suptitle(f\"{distance_function}\", fontsize=18, fontweight=\"bold\")\n",
    "\n",
    "        # create a 2 x 5 subplot grid\n",
    "        axs = subfig.subplots(2, 5, gridspec_kw={'height_ratios': [\n",
    "                              1, 1], 'wspace': 0, 'hspace': 0})\n",
    "\n",
    "        # get recommendations for the user embedding\n",
    "        recs = get_recommendations(\n",
    "            user_embedding, watched_movie_ids=watched_movie_ids, genre_constraint=genre_constraint, top_k=top_k, movie_class=movie_class)\n",
    "\n",
    "        # zip the axes and recs and enumerate over it plot the poster image, title and distance\n",
    "        for ax_idx, (ax, rec) in enumerate(zip(axs.reshape(-1), recs)):\n",
    "            ax.grid(False)\n",
    "            ax.set_xticklabels([])\n",
    "            ax.set_yticklabels([])\n",
    "            ax.axes.xaxis.set_visible(False)\n",
    "            ax.axes.yaxis.set_visible(False)\n",
    "            ax.axis('off')\n",
    "\n",
    "            # get the rec title, distance and poster image\n",
    "            rec_title = rec[\"title\"]\n",
    "            rec_distance = rec[\"_additional\"][\"distance\"]\n",
    "\n",
    "            rec_movie_id = rec[\"movie_id\"]\n",
    "            rec_image = get_poster_images([rec_movie_id])[0]\n",
    "\n",
    "            # plot the poster image\n",
    "            ax.imshow(rec_image)\n",
    "            # set title to the movie title (distance)\n",
    "            # distance should be centered\n",
    "            ax.set_title(f\"{rec_title}\\n({rec_distance:.2f})\",\n",
    "                         fontsize=4, ha=\"center\", wrap=True)\n",
    "\n",
    "    return fig\n"
   ]
  },
  {
   "cell_type": "code",
   "execution_count": null,
   "metadata": {},
   "outputs": [],
   "source": [
    "visualize_recs_across_distance_metrics(\n",
    "    user_embeddings[0], movie_ids, genre_constraint=None, top_k=10);\n"
   ]
  },
  {
   "cell_type": "code",
   "execution_count": null,
   "metadata": {},
   "outputs": [],
   "source": [
    "# do the same as the previous cell but with Children's constraint\n",
    "visualize_recs_across_distance_metrics(\n",
    "    user_embeddings[0], movie_ids, genre_constraint=\"Children's\", top_k=10);\n"
   ]
  }
 ],
 "metadata": {
  "kernelspec": {
   "display_name": "Python 3",
   "language": "python",
   "name": "python3"
  },
  "language_info": {
   "codemirror_mode": {
    "name": "ipython",
    "version": 3
   },
   "file_extension": ".py",
   "mimetype": "text/x-python",
   "name": "python",
   "nbconvert_exporter": "python",
   "pygments_lexer": "ipython3",
   "version": "3.10.9"
  },
  "orig_nbformat": 4,
  "vscode": {
   "interpreter": {
    "hash": "949777d72b0d2535278d3dc13498b2535136f6dfe0678499012e853ee9abcab1"
   }
  }
 },
 "nbformat": 4,
 "nbformat_minor": 2
}
