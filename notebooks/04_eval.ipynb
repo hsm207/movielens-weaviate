{
 "cells": [
  {
   "cell_type": "markdown",
   "metadata": {},
   "source": [
    "# Imports"
   ]
  },
  {
   "cell_type": "code",
   "execution_count": 1,
   "metadata": {},
   "outputs": [],
   "source": [
    "import pandas as pd\n",
    "from ranx import Qrels, Run, compare\n",
    "from tqdm import tqdm\n",
    "from weaviate import Client\n"
   ]
  },
  {
   "cell_type": "markdown",
   "metadata": {},
   "source": [
    "# Setup"
   ]
  },
  {
   "cell_type": "code",
   "execution_count": 2,
   "metadata": {},
   "outputs": [
    {
     "data": {
      "text/plain": [
       "[{'gitHash': 'f818156',\n",
       "  'name': 'node1',\n",
       "  'shards': [{'class': 'ViewCos', 'name': 'iLmb4a2tNAUb', 'objectCount': 0},\n",
       "   {'class': 'Genre', 'name': 'bhuJm2ZYdJ7m', 'objectCount': 18},\n",
       "   {'class': 'MovieCos', 'name': 'ff29Z3xcHcQr', 'objectCount': 3823}],\n",
       "  'stats': {'objectCount': 3841, 'shardCount': 3},\n",
       "  'status': 'HEALTHY',\n",
       "  'version': '1.17.2'}]"
      ]
     },
     "execution_count": 2,
     "metadata": {},
     "output_type": "execute_result"
    }
   ],
   "source": [
    "MOVIE_CLASS = \"MovieCos\"\n",
    "VIEW_CLASS = \"ViewCos\"\n",
    "\n",
    "# connect to weaviate at weaviate:8080\n",
    "client = Client(\"http://weaviate:8080\")\n",
    "\n",
    "client.batch.configure(batch_size=100)\n",
    "\n",
    "# clear VIEW_CLASS by deleting and recreating the schema\n",
    "schema = client.schema.get(VIEW_CLASS)\n",
    "client.schema.delete_class(VIEW_CLASS)\n",
    "client.schema.create_class(schema)\n",
    "\n",
    "# call cluster node status\n",
    "client.cluster.get_nodes_status()\n"
   ]
  },
  {
   "cell_type": "code",
   "execution_count": 3,
   "metadata": {},
   "outputs": [
    {
     "data": {
      "text/plain": [
       "[{'gitHash': 'f818156',\n",
       "  'name': 'node1',\n",
       "  'shards': [{'class': 'ViewCos', 'name': 'iLmb4a2tNAUb', 'objectCount': 0},\n",
       "   {'class': 'Genre', 'name': 'bhuJm2ZYdJ7m', 'objectCount': 18},\n",
       "   {'class': 'MovieCos', 'name': 'ff29Z3xcHcQr', 'objectCount': 3823}],\n",
       "  'stats': {'objectCount': 3841, 'shardCount': 3},\n",
       "  'status': 'HEALTHY',\n",
       "  'version': '1.17.2'}]"
      ]
     },
     "execution_count": 3,
     "metadata": {},
     "output_type": "execute_result"
    }
   ],
   "source": [
    "# delete all classes except for the VIEW_CLASS, MOVIIE_CLASS and the Genre class\n",
    "weaviate_classes = client.schema.get()[\"classes\"]\n",
    "\n",
    "for weaviate_class in weaviate_classes:\n",
    "    class_name = weaviate_class[\"class\"]\n",
    "    if class_name not in [VIEW_CLASS, MOVIE_CLASS, \"Genre\"]:\n",
    "        client.schema.delete_class(class_name)\n",
    "\n",
    "client.cluster.get_nodes_status()\n"
   ]
  },
  {
   "cell_type": "markdown",
   "metadata": {},
   "source": [
    "# Utility Functions"
   ]
  },
  {
   "cell_type": "markdown",
   "metadata": {},
   "source": [
    "Functions to determine if a movie id exists in the database:"
   ]
  },
  {
   "cell_type": "code",
   "execution_count": 4,
   "metadata": {},
   "outputs": [],
   "source": [
    "def get_movie_by_id(movie_id):\n",
    "    results = client.query\\\n",
    "        .get(MOVIE_CLASS, [\"movie_id\", \"title\"])\\\n",
    "        .with_where({\"path\": [\"movie_id\"], \"operator\": \"Equal\", \"valueString\": movie_id})\\\n",
    "        .with_additional(\"id\")\\\n",
    "        .do()\n",
    "    results = results[\"data\"][\"Get\"][MOVIE_CLASS]\n",
    "\n",
    "    return results\n",
    "\n",
    "\n",
    "def is_movie_id_exists(movie_id):\n",
    "    results = get_movie_by_id(movie_id)\n",
    "\n",
    "    return len(results) > 0\n"
   ]
  },
  {
   "cell_type": "markdown",
   "metadata": {},
   "source": [
    "Functions to generate recommendations given a list of movie ids and a user id:"
   ]
  },
  {
   "cell_type": "code",
   "execution_count": 5,
   "metadata": {},
   "outputs": [],
   "source": [
    "# define a function to get a movie uuid by movie id\n",
    "def get_movie_uuid_by_id(movie_id):\n",
    "    results = get_movie_by_id(movie_id)\n",
    "\n",
    "    return results[0][\"_additional\"][\"id\"]\n",
    "\n",
    "# TODO: figure out why this does not create a vector for the user\n",
    "\n",
    "\n",
    "def create_user_views_buggy(user_id, movie_ids):\n",
    "    movie_uuids = [get_movie_uuid_by_id(movie_id) for movie_id in movie_ids]\n",
    "\n",
    "    with client.batch as batch:\n",
    "        user_uuid = batch.add_data_object(\n",
    "            {\n",
    "                \"user_id\": user_id,\n",
    "            },\n",
    "            class_name=VIEW_CLASS\n",
    "        )\n",
    "\n",
    "        for movie_id in movie_ids:\n",
    "            movie_uuid = get_movie_uuid_by_id(movie_id)\n",
    "\n",
    "            batch.add_reference(\n",
    "                from_object_uuid=user_uuid,\n",
    "                from_object_class_name=VIEW_CLASS,\n",
    "                from_property_name=\"movies\",\n",
    "                to_object_uuid=movie_uuid,\n",
    "                to_object_class_name=MOVIE_CLASS\n",
    "            )\n",
    "    return user_uuid\n",
    "\n",
    "\n",
    "def create_user_views(user_id, movie_ids, view_limit=None):\n",
    "    # take the last view_limit movies if it is not None\n",
    "    if view_limit is not None:\n",
    "        movie_ids = movie_ids[-view_limit:]\n",
    "\n",
    "    movie_uuids = [get_movie_uuid_by_id(movie_id) for movie_id in movie_ids]\n",
    "\n",
    "    user_uuid = client.data_object.create(\n",
    "        {\"user_id\": user_id},\n",
    "        class_name=VIEW_CLASS\n",
    "    )\n",
    "\n",
    "    for movie_id in movie_ids:\n",
    "        movie_uuid = get_movie_uuid_by_id(movie_id)\n",
    "        client.data_object.reference.add(\n",
    "            from_uuid=user_uuid,\n",
    "            from_property_name=\"movies\",\n",
    "            to_uuid=movie_uuid,\n",
    "            from_class_name=VIEW_CLASS,\n",
    "            to_class_name=MOVIE_CLASS\n",
    "        )\n",
    "\n",
    "    return user_uuid\n",
    "\n",
    "\n",
    "def get_user_embedding(user_uuid):\n",
    "    user_embedding = client.query.get(VIEW_CLASS, [\"user_id\"]).with_additional(\"vector\").with_where(\n",
    "        {\"path\": [\"id\"], \"operator\": \"Equal\", \"valueString\": user_uuid}).do()\n",
    "\n",
    "    return user_embedding[\"data\"][\"Get\"][VIEW_CLASS][0][\"_additional\"][\"vector\"]\n",
    "\n",
    "\n",
    "def build_and_clause(movie_ids):\n",
    "    return {\n",
    "        \"operator\": \"And\",\n",
    "        \"operands\": [\n",
    "            {\n",
    "                \"path\": [\"movie_id\"],\n",
    "                \"operator\": \"NotEqual\",\n",
    "                \"valueString\": movie_id\n",
    "            } for movie_id in movie_ids\n",
    "        ]\n",
    "    }\n",
    "\n",
    "\n",
    "def get_recommendations(user_id, movie_ids, top_k=10, view_limit=None):\n",
    "    user_uuid = create_user_views(user_id, movie_ids, view_limit=view_limit)\n",
    "\n",
    "    user_embedding = get_user_embedding(user_uuid)\n",
    "\n",
    "    near_vector = {\n",
    "        \"vector\": user_embedding\n",
    "    }\n",
    "\n",
    "    excluded_movies = build_and_clause(movie_ids)\n",
    "\n",
    "    results = client.query\\\n",
    "        .get(MOVIE_CLASS, [\"movie_id\"])\\\n",
    "        .with_where(excluded_movies)\\\n",
    "        .with_near_vector(near_vector)\\\n",
    "        .with_limit(top_k)\\\n",
    "        .do()\n",
    "\n",
    "    results = results[\"data\"][\"Get\"][MOVIE_CLASS]\n",
    "\n",
    "    # extract movie ids\n",
    "    return [result[\"movie_id\"] for result in results]\n"
   ]
  },
  {
   "cell_type": "markdown",
   "metadata": {},
   "source": [
    "Quick check if `create_user_views` creates a vector for that user's views:"
   ]
  },
  {
   "cell_type": "code",
   "execution_count": 6,
   "metadata": {},
   "outputs": [],
   "source": [
    "user_id = \"1\"\n",
    "viewing_history = [\"3186\", \"1270\", \"1721\", \"1022\", \"2340\"]\n",
    "\n",
    "user_uuid_1 = create_user_views_buggy(user_id, viewing_history)\n",
    "user_uuid_2 = create_user_views(user_id, viewing_history)\n"
   ]
  },
  {
   "cell_type": "code",
   "execution_count": 7,
   "metadata": {},
   "outputs": [
    {
     "data": {
      "text/plain": [
       "0"
      ]
     },
     "execution_count": 7,
     "metadata": {},
     "output_type": "execute_result"
    }
   ],
   "source": [
    "user_uuid_1_vector = client.query.get(VIEW_CLASS, [\"user_id\"]).with_additional(\"vector\").with_where(\n",
    "    {\"path\": [\"id\"], \"operator\": \"Equal\", \"valueString\": user_uuid_1}).do()\n",
    "\n",
    "len(user_uuid_1_vector[\"data\"][\"Get\"][VIEW_CLASS][0][\"_additional\"][\"vector\"])\n"
   ]
  },
  {
   "cell_type": "code",
   "execution_count": 8,
   "metadata": {},
   "outputs": [
    {
     "data": {
      "text/plain": [
       "768"
      ]
     },
     "execution_count": 8,
     "metadata": {},
     "output_type": "execute_result"
    }
   ],
   "source": [
    "user_uuid_2_vector = client.query.get(VIEW_CLASS, [\"user_id\"]).with_additional(\"vector\").with_where(\n",
    "    {\"path\": [\"id\"], \"operator\": \"Equal\", \"valueString\": user_uuid_2}).do()\n",
    "\n",
    "user_uuid_2_vector = user_uuid_2_vector[\"data\"][\"Get\"][VIEW_CLASS][0][\"_additional\"][\"vector\"]\n",
    "\n",
    "len(user_uuid_2_vector)\n"
   ]
  },
  {
   "cell_type": "code",
   "execution_count": 9,
   "metadata": {},
   "outputs": [],
   "source": [
    "client.data_object.delete(user_uuid_1, VIEW_CLASS)\n",
    "client.data_object.delete(user_uuid_2, VIEW_CLASS)\n"
   ]
  },
  {
   "cell_type": "markdown",
   "metadata": {},
   "source": [
    "# Dataset"
   ]
  },
  {
   "cell_type": "code",
   "execution_count": 10,
   "metadata": {},
   "outputs": [
    {
     "data": {
      "text/html": [
       "<div>\n",
       "<style scoped>\n",
       "    .dataframe tbody tr th:only-of-type {\n",
       "        vertical-align: middle;\n",
       "    }\n",
       "\n",
       "    .dataframe tbody tr th {\n",
       "        vertical-align: top;\n",
       "    }\n",
       "\n",
       "    .dataframe thead th {\n",
       "        text-align: right;\n",
       "    }\n",
       "</style>\n",
       "<table border=\"1\" class=\"dataframe\">\n",
       "  <thead>\n",
       "    <tr style=\"text-align: right;\">\n",
       "      <th></th>\n",
       "      <th>user_id</th>\n",
       "      <th>movie_id</th>\n",
       "      <th>rating</th>\n",
       "      <th>timestamp</th>\n",
       "    </tr>\n",
       "  </thead>\n",
       "  <tbody>\n",
       "    <tr>\n",
       "      <th>0</th>\n",
       "      <td>1</td>\n",
       "      <td>1193</td>\n",
       "      <td>5</td>\n",
       "      <td>2000-12-31 22:12:40</td>\n",
       "    </tr>\n",
       "    <tr>\n",
       "      <th>1</th>\n",
       "      <td>1</td>\n",
       "      <td>661</td>\n",
       "      <td>3</td>\n",
       "      <td>2000-12-31 22:35:09</td>\n",
       "    </tr>\n",
       "    <tr>\n",
       "      <th>2</th>\n",
       "      <td>1</td>\n",
       "      <td>914</td>\n",
       "      <td>3</td>\n",
       "      <td>2000-12-31 22:32:48</td>\n",
       "    </tr>\n",
       "    <tr>\n",
       "      <th>3</th>\n",
       "      <td>1</td>\n",
       "      <td>3408</td>\n",
       "      <td>4</td>\n",
       "      <td>2000-12-31 22:04:35</td>\n",
       "    </tr>\n",
       "    <tr>\n",
       "      <th>4</th>\n",
       "      <td>1</td>\n",
       "      <td>2355</td>\n",
       "      <td>5</td>\n",
       "      <td>2001-01-06 23:38:11</td>\n",
       "    </tr>\n",
       "  </tbody>\n",
       "</table>\n",
       "</div>"
      ],
      "text/plain": [
       "  user_id movie_id  rating           timestamp\n",
       "0       1     1193       5 2000-12-31 22:12:40\n",
       "1       1      661       3 2000-12-31 22:35:09\n",
       "2       1      914       3 2000-12-31 22:32:48\n",
       "3       1     3408       4 2000-12-31 22:04:35\n",
       "4       1     2355       5 2001-01-06 23:38:11"
      ]
     },
     "execution_count": 10,
     "metadata": {},
     "output_type": "execute_result"
    }
   ],
   "source": [
    "# read the ratings.dat file in ml-1m\n",
    "# timestamp column is number of seconds since 1970-01-01 00:00:00 UTC\n",
    "ratings = pd.read_csv('../data/ml-1m/ratings.dat', sep='::',\n",
    "                      names=['user_id', 'movie_id', 'rating', 'timestamp'], engine='python')\n",
    "\n",
    "# convert the timestamp to a datetime\n",
    "ratings['timestamp'] = pd.to_datetime(ratings['timestamp'], unit='s')\n",
    "\n",
    "# convert the movie_id and user_id to strings\n",
    "ratings['movie_id'] = ratings['movie_id'].astype(str)\n",
    "ratings['user_id'] = ratings['user_id'].astype(str)\n",
    "\n",
    "ratings.head()\n"
   ]
  },
  {
   "cell_type": "markdown",
   "metadata": {},
   "source": [
    "# Preprocessing"
   ]
  },
  {
   "cell_type": "markdown",
   "metadata": {},
   "source": [
    "Drop rows where the movie id is not in the database:"
   ]
  },
  {
   "cell_type": "code",
   "execution_count": 11,
   "metadata": {},
   "outputs": [
    {
     "data": {
      "text/html": [
       "<div>\n",
       "<style scoped>\n",
       "    .dataframe tbody tr th:only-of-type {\n",
       "        vertical-align: middle;\n",
       "    }\n",
       "\n",
       "    .dataframe tbody tr th {\n",
       "        vertical-align: top;\n",
       "    }\n",
       "\n",
       "    .dataframe thead th {\n",
       "        text-align: right;\n",
       "    }\n",
       "</style>\n",
       "<table border=\"1\" class=\"dataframe\">\n",
       "  <thead>\n",
       "    <tr style=\"text-align: right;\">\n",
       "      <th></th>\n",
       "      <th>movie_id</th>\n",
       "    </tr>\n",
       "    <tr>\n",
       "      <th>exists</th>\n",
       "      <th></th>\n",
       "    </tr>\n",
       "  </thead>\n",
       "  <tbody>\n",
       "    <tr>\n",
       "      <th>False</th>\n",
       "      <td>45</td>\n",
       "    </tr>\n",
       "    <tr>\n",
       "      <th>True</th>\n",
       "      <td>3661</td>\n",
       "    </tr>\n",
       "  </tbody>\n",
       "</table>\n",
       "</div>"
      ],
      "text/plain": [
       "        movie_id\n",
       "exists          \n",
       "False         45\n",
       "True        3661"
      ]
     },
     "execution_count": 11,
     "metadata": {},
     "output_type": "execute_result"
    }
   ],
   "source": [
    "# make a new dataframe with only the unique movie_ids\n",
    "movies = ratings[['movie_id']].drop_duplicates()\n",
    "\n",
    "# for each movie_id, check if it exists in weaviate\n",
    "movies['exists'] = movies['movie_id'].apply(is_movie_id_exists)\n",
    "\n",
    "# group by the exists column and count the number of movies\n",
    "movies.groupby('exists').count()\n"
   ]
  },
  {
   "cell_type": "code",
   "execution_count": 12,
   "metadata": {},
   "outputs": [],
   "source": [
    "# from movies, select only the movies that do not exist in weaviate\n",
    "movies_not_in_weaviate = movies[movies['exists'] == False]\n",
    "\n",
    "# keep rows in ratings where the movie_id is not in movies_not_in_weaviate\n",
    "ratings = ratings[~ratings['movie_id'].isin(\n",
    "    movies_not_in_weaviate['movie_id'])]\n"
   ]
  },
  {
   "cell_type": "markdown",
   "metadata": {},
   "source": [
    "Make a dataframe of user id and their viewing history which is the sequence of moviews they rated from earlier to lastest:"
   ]
  },
  {
   "cell_type": "code",
   "execution_count": 13,
   "metadata": {},
   "outputs": [
    {
     "data": {
      "text/html": [
       "<div>\n",
       "<style scoped>\n",
       "    .dataframe tbody tr th:only-of-type {\n",
       "        vertical-align: middle;\n",
       "    }\n",
       "\n",
       "    .dataframe tbody tr th {\n",
       "        vertical-align: top;\n",
       "    }\n",
       "\n",
       "    .dataframe thead th {\n",
       "        text-align: right;\n",
       "    }\n",
       "</style>\n",
       "<table border=\"1\" class=\"dataframe\">\n",
       "  <thead>\n",
       "    <tr style=\"text-align: right;\">\n",
       "      <th></th>\n",
       "      <th>user_id</th>\n",
       "      <th>view_history</th>\n",
       "    </tr>\n",
       "  </thead>\n",
       "  <tbody>\n",
       "    <tr>\n",
       "      <th>0</th>\n",
       "      <td>1</td>\n",
       "      <td>[3186, 1270, 1721, 1022, 2340, 1836, 3408, 280...</td>\n",
       "    </tr>\n",
       "    <tr>\n",
       "      <th>1</th>\n",
       "      <td>10</td>\n",
       "      <td>[597, 743, 858, 1948, 1210, 1282, 2312, 3751, ...</td>\n",
       "    </tr>\n",
       "    <tr>\n",
       "      <th>2</th>\n",
       "      <td>100</td>\n",
       "      <td>[1676, 260, 1198, 541, 1210, 3948, 3536, 2567,...</td>\n",
       "    </tr>\n",
       "    <tr>\n",
       "      <th>3</th>\n",
       "      <td>1000</td>\n",
       "      <td>[2990, 971, 260, 3068, 3153, 1210, 2973, 1610,...</td>\n",
       "    </tr>\n",
       "    <tr>\n",
       "      <th>4</th>\n",
       "      <td>1001</td>\n",
       "      <td>[1198, 1617, 2885, 3909, 1479, 3555, 3949, 389...</td>\n",
       "    </tr>\n",
       "  </tbody>\n",
       "</table>\n",
       "</div>"
      ],
      "text/plain": [
       "  user_id                                       view_history\n",
       "0       1  [3186, 1270, 1721, 1022, 2340, 1836, 3408, 280...\n",
       "1      10  [597, 743, 858, 1948, 1210, 1282, 2312, 3751, ...\n",
       "2     100  [1676, 260, 1198, 541, 1210, 3948, 3536, 2567,...\n",
       "3    1000  [2990, 971, 260, 3068, 3153, 1210, 2973, 1610,...\n",
       "4    1001  [1198, 1617, 2885, 3909, 1479, 3555, 3949, 389..."
      ]
     },
     "execution_count": 13,
     "metadata": {},
     "output_type": "execute_result"
    }
   ],
   "source": [
    "# sort x by the second elmement of the tuple\n",
    "# and only return the first element of each tuple\n",
    "def f(x):\n",
    "    return list(map(lambda x: x[0], sorted(x, key=lambda x: x[1])))\n",
    "\n",
    "\n",
    "# make a tuple from movie_id and timestamp\n",
    "ratings['movie_id_timestamp'] = ratings.apply(\n",
    "    lambda x: (x['movie_id'], x['timestamp']), axis=1)\n",
    "\n",
    "# group by user_id and apply f on the movie_id_timestamp column\n",
    "# name the column view_history\n",
    "history = ratings.groupby('user_id')['movie_id_timestamp'].apply(\n",
    "    f).reset_index(name='view_history')\n",
    "\n",
    "history.head()\n"
   ]
  },
  {
   "cell_type": "code",
   "execution_count": 14,
   "metadata": {},
   "outputs": [
    {
     "data": {
      "text/plain": [
       "<AxesSubplot: >"
      ]
     },
     "execution_count": 14,
     "metadata": {},
     "output_type": "execute_result"
    },
    {
     "data": {
      "image/png": "[encoded data removed]",
      "text/plain": [
       "<Figure size 640x480 with 1 Axes>"
      ]
     },
     "metadata": {},
     "output_type": "display_data"
    }
   ],
   "source": [
    "# make a histogram of the length of the view_history\n",
    "history['view_history'].apply(len).hist(bins=100)\n"
   ]
  },
  {
   "cell_type": "markdown",
   "metadata": {},
   "source": [
    "# Train Test Split"
   ]
  },
  {
   "cell_type": "markdown",
   "metadata": {},
   "source": [
    "The training set is each users viewing history up to the last movie they rated. \n",
    "\n",
    "The test set is the last movie they rated."
   ]
  },
  {
   "cell_type": "code",
   "execution_count": 15,
   "metadata": {},
   "outputs": [
    {
     "data": {
      "text/html": [
       "<div>\n",
       "<style scoped>\n",
       "    .dataframe tbody tr th:only-of-type {\n",
       "        vertical-align: middle;\n",
       "    }\n",
       "\n",
       "    .dataframe tbody tr th {\n",
       "        vertical-align: top;\n",
       "    }\n",
       "\n",
       "    .dataframe thead th {\n",
       "        text-align: right;\n",
       "    }\n",
       "</style>\n",
       "<table border=\"1\" class=\"dataframe\">\n",
       "  <thead>\n",
       "    <tr style=\"text-align: right;\">\n",
       "      <th></th>\n",
       "      <th>user_id</th>\n",
       "      <th>view_history</th>\n",
       "      <th>train</th>\n",
       "      <th>test</th>\n",
       "    </tr>\n",
       "  </thead>\n",
       "  <tbody>\n",
       "    <tr>\n",
       "      <th>0</th>\n",
       "      <td>1</td>\n",
       "      <td>[3186, 1270, 1721, 1022, 2340, 1836, 3408, 280...</td>\n",
       "      <td>[595, 2687, 745, 588, 1, 2355, 2294, 783, 1566...</td>\n",
       "      <td>48</td>\n",
       "    </tr>\n",
       "    <tr>\n",
       "      <th>1</th>\n",
       "      <td>10</td>\n",
       "      <td>[597, 743, 858, 1948, 1210, 1282, 2312, 3751, ...</td>\n",
       "      <td>[3593, 275, 3034, 3447, 595, 923, 1704, 1283, ...</td>\n",
       "      <td>2252</td>\n",
       "    </tr>\n",
       "    <tr>\n",
       "      <th>2</th>\n",
       "      <td>100</td>\n",
       "      <td>[1676, 260, 1198, 541, 1210, 3948, 3536, 2567,...</td>\n",
       "      <td>[1562, 1499, 593, 318, 527, 924, 608, 1213, 91...</td>\n",
       "      <td>1208</td>\n",
       "    </tr>\n",
       "    <tr>\n",
       "      <th>3</th>\n",
       "      <td>1000</td>\n",
       "      <td>[2990, 971, 260, 3068, 3153, 1210, 2973, 1610,...</td>\n",
       "      <td>[2081, 2085, 2087, 1029, 318, 1299, 2804, 2132...</td>\n",
       "      <td>1104</td>\n",
       "    </tr>\n",
       "    <tr>\n",
       "      <th>4</th>\n",
       "      <td>1001</td>\n",
       "      <td>[1198, 1617, 2885, 3909, 1479, 3555, 3949, 389...</td>\n",
       "      <td>[3824, 3854, 2609, 2769, 3902, 3743, 3317, 375...</td>\n",
       "      <td>2683</td>\n",
       "    </tr>\n",
       "  </tbody>\n",
       "</table>\n",
       "</div>"
      ],
      "text/plain": [
       "  user_id                                       view_history  \\\n",
       "0       1  [3186, 1270, 1721, 1022, 2340, 1836, 3408, 280...   \n",
       "1      10  [597, 743, 858, 1948, 1210, 1282, 2312, 3751, ...   \n",
       "2     100  [1676, 260, 1198, 541, 1210, 3948, 3536, 2567,...   \n",
       "3    1000  [2990, 971, 260, 3068, 3153, 1210, 2973, 1610,...   \n",
       "4    1001  [1198, 1617, 2885, 3909, 1479, 3555, 3949, 389...   \n",
       "\n",
       "                                               train  test  \n",
       "0  [595, 2687, 745, 588, 1, 2355, 2294, 783, 1566...    48  \n",
       "1  [3593, 275, 3034, 3447, 595, 923, 1704, 1283, ...  2252  \n",
       "2  [1562, 1499, 593, 318, 527, 924, 608, 1213, 91...  1208  \n",
       "3  [2081, 2085, 2087, 1029, 318, 1299, 2804, 2132...  1104  \n",
       "4  [3824, 3854, 2609, 2769, 3902, 3743, 3317, 375...  2683  "
      ]
     },
     "execution_count": 15,
     "metadata": {},
     "output_type": "execute_result"
    }
   ],
   "source": [
    "# add column called train\n",
    "# train is the everything in view_history except the last item\n",
    "history['train'] = history['view_history'].apply(lambda x: x[:-1])\n",
    "# due to compute limitations, we only consider the last 10 views\n",
    "history['train'] = history['train'].apply(lambda x: x[-10:])\n",
    "\n",
    "# add column called test\n",
    "# test is the last item in view_history\n",
    "history['test'] = history['view_history'].apply(lambda x: x[-1])\n",
    "\n",
    "history.head()\n"
   ]
  },
  {
   "cell_type": "markdown",
   "metadata": {},
   "source": [
    "# Generate Recommendations"
   ]
  },
  {
   "cell_type": "code",
   "execution_count": 16,
   "metadata": {},
   "outputs": [],
   "source": [
    "# select user_id, train and test into df\n",
    "df = history[['user_id', 'train', 'test']]\n",
    "\n",
    "# sample 5 rows from df\n",
    "# df = df.sample(5)\n",
    "# df\n"
   ]
  },
  {
   "cell_type": "code",
   "execution_count": 17,
   "metadata": {},
   "outputs": [
    {
     "name": "stderr",
     "output_type": "stream",
     "text": [
      "Progress: 100%|█████████████████████████████████████████████████████████████████████████████████████████████████| 6040/6040 [47:04<00:00,  2.14it/s]\n"
     ]
    },
    {
     "data": {
      "text/html": [
       "<div>\n",
       "<style scoped>\n",
       "    .dataframe tbody tr th:only-of-type {\n",
       "        vertical-align: middle;\n",
       "    }\n",
       "\n",
       "    .dataframe tbody tr th {\n",
       "        vertical-align: top;\n",
       "    }\n",
       "\n",
       "    .dataframe thead th {\n",
       "        text-align: right;\n",
       "    }\n",
       "</style>\n",
       "<table border=\"1\" class=\"dataframe\">\n",
       "  <thead>\n",
       "    <tr style=\"text-align: right;\">\n",
       "      <th></th>\n",
       "      <th>user_id</th>\n",
       "      <th>train</th>\n",
       "      <th>test</th>\n",
       "      <th>recs</th>\n",
       "    </tr>\n",
       "  </thead>\n",
       "  <tbody>\n",
       "    <tr>\n",
       "      <th>0</th>\n",
       "      <td>1</td>\n",
       "      <td>[595, 2687, 745, 588, 1, 2355, 2294, 783, 1566...</td>\n",
       "      <td>48</td>\n",
       "      <td>[1197, 2632, 1275, 2628, 3932, 3139, 251, 1027...</td>\n",
       "    </tr>\n",
       "    <tr>\n",
       "      <th>1</th>\n",
       "      <td>10</td>\n",
       "      <td>[3593, 275, 3034, 3447, 595, 923, 1704, 1283, ...</td>\n",
       "      <td>2252</td>\n",
       "      <td>[2579, 3016, 1791, 1197, 536, 1908, 2780, 558,...</td>\n",
       "    </tr>\n",
       "    <tr>\n",
       "      <th>2</th>\n",
       "      <td>100</td>\n",
       "      <td>[1562, 1499, 593, 318, 527, 924, 608, 1213, 91...</td>\n",
       "      <td>1208</td>\n",
       "      <td>[2579, 2406, 1181, 558, 1027, 1394, 1275, 1209...</td>\n",
       "    </tr>\n",
       "    <tr>\n",
       "      <th>3</th>\n",
       "      <td>1000</td>\n",
       "      <td>[2081, 2085, 2087, 1029, 318, 1299, 2804, 2132...</td>\n",
       "      <td>1104</td>\n",
       "      <td>[2579, 558, 812, 126, 3340, 3218, 2137, 1112, ...</td>\n",
       "    </tr>\n",
       "    <tr>\n",
       "      <th>4</th>\n",
       "      <td>1001</td>\n",
       "      <td>[3824, 3854, 2609, 2769, 3902, 3743, 3317, 375...</td>\n",
       "      <td>2683</td>\n",
       "      <td>[2980, 347, 2146, 1961, 3466, 942, 3004, 2123,...</td>\n",
       "    </tr>\n",
       "  </tbody>\n",
       "</table>\n",
       "</div>"
      ],
      "text/plain": [
       "  user_id                                              train  test  \\\n",
       "0       1  [595, 2687, 745, 588, 1, 2355, 2294, 783, 1566...    48   \n",
       "1      10  [3593, 275, 3034, 3447, 595, 923, 1704, 1283, ...  2252   \n",
       "2     100  [1562, 1499, 593, 318, 527, 924, 608, 1213, 91...  1208   \n",
       "3    1000  [2081, 2085, 2087, 1029, 318, 1299, 2804, 2132...  1104   \n",
       "4    1001  [3824, 3854, 2609, 2769, 3902, 3743, 3317, 375...  2683   \n",
       "\n",
       "                                                recs  \n",
       "0  [1197, 2632, 1275, 2628, 3932, 3139, 251, 1027...  \n",
       "1  [2579, 3016, 1791, 1197, 536, 1908, 2780, 558,...  \n",
       "2  [2579, 2406, 1181, 558, 1027, 1394, 1275, 1209...  \n",
       "3  [2579, 558, 812, 126, 3340, 3218, 2137, 1112, ...  \n",
       "4  [2980, 347, 2146, 1961, 3466, 942, 3004, 2123,...  "
      ]
     },
     "execution_count": 17,
     "metadata": {},
     "output_type": "execute_result"
    }
   ],
   "source": [
    "tqdm.pandas(desc=\"Progress\")\n",
    "\n",
    "# apply get_recommendations to each row in df\n",
    "# to get 100 recommendations\n",
    "# and assign it to the column recs\n",
    "df['recs'] = df.progress_apply(lambda x: get_recommendations(\n",
    "    x['user_id'], x['train'], top_k=100, view_limit=None), axis=1)\n",
    "\n",
    "df.head()\n"
   ]
  },
  {
   "cell_type": "markdown",
   "metadata": {},
   "source": [
    "# Evaluation"
   ]
  },
  {
   "cell_type": "markdown",
   "metadata": {},
   "source": [
    "Define the query relevance judgements i.e. ground truth:"
   ]
  },
  {
   "cell_type": "code",
   "execution_count": 18,
   "metadata": {},
   "outputs": [],
   "source": [
    "qrels = Qrels({user_id: {test: 1}\n",
    "              for user_id, test in zip(df['user_id'], df['test'])})\n"
   ]
  },
  {
   "cell_type": "markdown",
   "metadata": {},
   "source": [
    "Define the run i.e. the recommendations from the model:"
   ]
  },
  {
   "cell_type": "code",
   "execution_count": 19,
   "metadata": {},
   "outputs": [],
   "source": [
    "# enumerate over the user id and recs column\n",
    "# and create a dictionary with the user_id as key\n",
    "# the value is a dictionary with the movie_id as key\n",
    "# and the rank as value\n",
    "run = Run({user_id: {rec: rank for rank, rec in enumerate(recs, 1)}\n",
    "          for user_id, recs in zip(df['user_id'], df['recs'])}, name=\"simple vector search\")\n"
   ]
  },
  {
   "cell_type": "markdown",
   "metadata": {},
   "source": [
    "Calculate the metrics:"
   ]
  },
  {
   "cell_type": "code",
   "execution_count": 20,
   "metadata": {
    "tags": []
   },
   "outputs": [
    {
     "data": {
      "text/plain": [
       "#    Model                   NDCG@10    Recall@10    Recall@100\n",
       "---  --------------------  ---------  -----------  ------------\n",
       "a    simple vector search      0.002        0.005         0.057"
      ]
     },
     "execution_count": 20,
     "metadata": {},
     "output_type": "execute_result"
    }
   ],
   "source": [
    "report = compare(qrels=qrels,\n",
    "                 runs=[run],\n",
    "                 metrics=['ndcg@10', 'recall@10', 'recall@100'])\n",
    "\n",
    "report\n"
   ]
  }
 ],
 "metadata": {
  "kernelspec": {
   "display_name": "Python 3 (ipykernel)",
   "language": "python",
   "name": "python3"
  },
  "language_info": {
   "codemirror_mode": {
    "name": "ipython",
    "version": 3
   },
   "file_extension": ".py",
   "mimetype": "text/x-python",
   "name": "python",
   "nbconvert_exporter": "python",
   "pygments_lexer": "ipython3",
   "version": "3.10.9"
  },
  "vscode": {
   "interpreter": {
    "hash": "949777d72b0d2535278d3dc13498b2535136f6dfe0678499012e853ee9abcab1"
   }
  }
 },
 "nbformat": 4,
 "nbformat_minor": 4
}
