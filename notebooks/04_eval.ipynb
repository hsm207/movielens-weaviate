{
 "cells": [
  {
   "attachments": {},
   "cell_type": "markdown",
   "metadata": {},
   "source": [
    "# Imports"
   ]
  },
  {
   "cell_type": "code",
   "execution_count": null,
   "metadata": {},
   "outputs": [],
   "source": [
    "import pandas as pd\n",
    "from ranx import Qrels, Run, compare\n",
    "from tqdm import tqdm\n",
    "from weaviate import Client\n"
   ]
  },
  {
   "attachments": {},
   "cell_type": "markdown",
   "metadata": {},
   "source": [
    "# Setup"
   ]
  },
  {
   "cell_type": "code",
   "execution_count": null,
   "metadata": {},
   "outputs": [],
   "source": [
    "MOVIE_CLASS = \"MovieCos\"\n",
    "VIEW_CLASS = \"ViewCos\"\n",
    "\n",
    "# connect to weaviate at weaviate:8080\n",
    "client = Client(\"http://weaviate:8080\")\n",
    "\n",
    "client.batch.configure(batch_size=100)\n",
    "\n",
    "# clear VIEW_CLASS by deleting and recreating the schema\n",
    "schema = client.schema.get(VIEW_CLASS)\n",
    "client.schema.delete_class(VIEW_CLASS)\n",
    "client.schema.create_class(schema)\n",
    "\n",
    "# call cluster node status\n",
    "client.cluster.get_nodes_status()\n"
   ]
  },
  {
   "attachments": {},
   "cell_type": "markdown",
   "metadata": {},
   "source": [
    "# Utility Functions"
   ]
  },
  {
   "attachments": {},
   "cell_type": "markdown",
   "metadata": {},
   "source": [
    "Functions to determine if a movie id exists in the database:"
   ]
  },
  {
   "cell_type": "code",
   "execution_count": null,
   "metadata": {},
   "outputs": [],
   "source": [
    "def get_movie_by_id(movie_id):\n",
    "    results = client.query\\\n",
    "        .get(MOVIE_CLASS, [\"movie_id\", \"title\"])\\\n",
    "        .with_where({\"path\": [\"movie_id\"], \"operator\": \"Equal\", \"valueString\": movie_id})\\\n",
    "        .with_additional(\"id\")\\\n",
    "        .do()\n",
    "    results = results[\"data\"][\"Get\"][MOVIE_CLASS]\n",
    "\n",
    "    return results\n",
    "\n",
    "\n",
    "def is_movie_id_exists(movie_id):\n",
    "    results = get_movie_by_id(movie_id)\n",
    "\n",
    "    return len(results) > 0\n"
   ]
  },
  {
   "attachments": {},
   "cell_type": "markdown",
   "metadata": {},
   "source": [
    "Functions to generate recommendations given a list of movie ids and a user id:"
   ]
  },
  {
   "cell_type": "code",
   "execution_count": null,
   "metadata": {},
   "outputs": [],
   "source": [
    "# define a function to get a movie uuid by movie id\n",
    "def get_movie_uuid_by_id(movie_id):\n",
    "    results = get_movie_by_id(movie_id)\n",
    "\n",
    "    return results[0][\"_additional\"][\"id\"]\n",
    "\n",
    "# TODO: figure out why this does not create a vector for the user\n",
    "\n",
    "\n",
    "def create_user_views_buggy(user_id, movie_ids):\n",
    "    movie_uuids = [get_movie_uuid_by_id(movie_id) for movie_id in movie_ids]\n",
    "\n",
    "    with client.batch as batch:\n",
    "        user_uuid = batch.add_data_object(\n",
    "            {\n",
    "                \"user_id\": user_id,\n",
    "            },\n",
    "            class_name=VIEW_CLASS\n",
    "        )\n",
    "\n",
    "        for movie_id in movie_ids:\n",
    "            movie_uuid = get_movie_uuid_by_id(movie_id)\n",
    "\n",
    "            batch.add_reference(\n",
    "                from_object_uuid=user_uuid,\n",
    "                from_object_class_name=VIEW_CLASS,\n",
    "                from_property_name=\"movies\",\n",
    "                to_object_uuid=movie_uuid,\n",
    "                to_object_class_name=MOVIE_CLASS\n",
    "            )\n",
    "    return user_uuid\n",
    "\n",
    "\n",
    "def create_user_views(user_id, movie_ids):\n",
    "    movie_uuids = [get_movie_uuid_by_id(movie_id) for movie_id in movie_ids]\n",
    "\n",
    "    user_uuid = client.data_object.create(\n",
    "        {\"user_id\": user_id},\n",
    "        class_name=VIEW_CLASS\n",
    "    )\n",
    "\n",
    "    for movie_id in movie_ids:\n",
    "        movie_uuid = get_movie_uuid_by_id(movie_id)\n",
    "        client.data_object.reference.add(\n",
    "            from_uuid=user_uuid,\n",
    "            from_property_name=\"movies\",\n",
    "            to_uuid=movie_uuid,\n",
    "            from_class_name=VIEW_CLASS,\n",
    "            to_class_name=MOVIE_CLASS\n",
    "        )\n",
    "\n",
    "    return user_uuid\n",
    "\n",
    "\n",
    "def get_user_embedding(user_uuid):\n",
    "    user_embedding = client.query.get(VIEW_CLASS, [\"user_id\"]).with_additional(\"vector\").with_where(\n",
    "        {\"path\": [\"id\"], \"operator\": \"Equal\", \"valueString\": user_uuid}).do()\n",
    "\n",
    "    return user_embedding[\"data\"][\"Get\"][VIEW_CLASS][0][\"_additional\"][\"vector\"]\n",
    "\n",
    "\n",
    "def build_and_clause(movie_ids):\n",
    "    return {\n",
    "        \"operator\": \"And\",\n",
    "        \"operands\": [\n",
    "            {\n",
    "                \"path\": [\"movie_id\"],\n",
    "                \"operator\": \"NotEqual\",\n",
    "                \"valueString\": movie_id\n",
    "            } for movie_id in movie_ids\n",
    "        ]\n",
    "    }\n",
    "\n",
    "\n",
    "def get_recommendations(user_id, movie_ids, top_k=10):\n",
    "    user_uuid = create_user_views(user_id, movie_ids)\n",
    "\n",
    "    user_embedding = get_user_embedding(user_uuid)\n",
    "\n",
    "    near_vector = {\n",
    "        \"vector\": user_embedding\n",
    "    }\n",
    "\n",
    "    excluded_movies = build_and_clause(movie_ids)\n",
    "\n",
    "    results = client.query\\\n",
    "        .get(MOVIE_CLASS, [\"movie_id\"])\\\n",
    "        .with_where(excluded_movies)\\\n",
    "        .with_near_vector(near_vector)\\\n",
    "        .with_limit(top_k)\\\n",
    "        .do()\n",
    "\n",
    "    results = results[\"data\"][\"Get\"][MOVIE_CLASS]\n",
    "\n",
    "    # extract movie ids\n",
    "    return [result[\"movie_id\"] for result in results]\n"
   ]
  },
  {
   "attachments": {},
   "cell_type": "markdown",
   "metadata": {},
   "source": [
    "Quick check if `create_user_views` creates a vector for that user's views:"
   ]
  },
  {
   "cell_type": "code",
   "execution_count": null,
   "metadata": {},
   "outputs": [],
   "source": [
    "user_id = \"1\"\n",
    "viewing_history = [\"3186\", \"1270\", \"1721\", \"1022\", \"2340\"]\n",
    "\n",
    "user_uuid_1 = create_user_views_buggy(user_id, viewing_history)\n",
    "user_uuid_2 = create_user_views(user_id, viewing_history)\n"
   ]
  },
  {
   "cell_type": "code",
   "execution_count": null,
   "metadata": {},
   "outputs": [],
   "source": [
    "user_uuid_1_vector = client.query.get(VIEW_CLASS, [\"user_id\"]).with_additional(\"vector\").with_where(\n",
    "    {\"path\": [\"id\"], \"operator\": \"Equal\", \"valueString\": user_uuid_1}).do()\n",
    "\n",
    "len(user_uuid_1_vector[\"data\"][\"Get\"][VIEW_CLASS][0][\"_additional\"][\"vector\"])\n"
   ]
  },
  {
   "cell_type": "code",
   "execution_count": null,
   "metadata": {},
   "outputs": [],
   "source": [
    "user_uuid_2_vector = client.query.get(VIEW_CLASS, [\"user_id\"]).with_additional(\"vector\").with_where(\n",
    "    {\"path\": [\"id\"], \"operator\": \"Equal\", \"valueString\": user_uuid_2}).do()\n",
    "\n",
    "user_uuid_2_vector = user_uuid_2_vector[\"data\"][\"Get\"][VIEW_CLASS][0][\"_additional\"][\"vector\"]\n",
    "\n",
    "len(user_uuid_2_vector)\n"
   ]
  },
  {
   "cell_type": "code",
   "execution_count": null,
   "metadata": {},
   "outputs": [],
   "source": [
    "client.data_object.delete(user_uuid_1, VIEW_CLASS)\n",
    "client.data_object.delete(user_uuid_2, VIEW_CLASS)\n"
   ]
  },
  {
   "attachments": {},
   "cell_type": "markdown",
   "metadata": {},
   "source": [
    "# Dataset"
   ]
  },
  {
   "cell_type": "code",
   "execution_count": null,
   "metadata": {},
   "outputs": [],
   "source": [
    "# read the ratings.dat file in ml-1m\n",
    "# timestamp column is number of seconds since 1970-01-01 00:00:00 UTC\n",
    "ratings = pd.read_csv('../data/ml-1m/ratings.dat', sep='::',\n",
    "                      names=['user_id', 'movie_id', 'rating', 'timestamp'], engine='python')\n",
    "\n",
    "# convert the timestamp to a datetime\n",
    "ratings['timestamp'] = pd.to_datetime(ratings['timestamp'], unit='s')\n",
    "\n",
    "# convert the movie_id and user_id to strings\n",
    "ratings['movie_id'] = ratings['movie_id'].astype(str)\n",
    "ratings['user_id'] = ratings['user_id'].astype(str)\n",
    "\n",
    "ratings.head()\n"
   ]
  },
  {
   "attachments": {},
   "cell_type": "markdown",
   "metadata": {},
   "source": [
    "# Preprocessing"
   ]
  },
  {
   "attachments": {},
   "cell_type": "markdown",
   "metadata": {},
   "source": [
    "Drop rows where the movie id is not in the database:"
   ]
  },
  {
   "cell_type": "code",
   "execution_count": null,
   "metadata": {},
   "outputs": [],
   "source": [
    "# make a new dataframe with only the unique movie_ids\n",
    "movies = ratings[['movie_id']].drop_duplicates()\n",
    "\n",
    "# for each movie_id, check if it exists in weaviate\n",
    "movies['exists'] = movies['movie_id'].apply(is_movie_id_exists)\n",
    "\n",
    "# group by the exists column and count the number of movies\n",
    "movies.groupby('exists').count()\n"
   ]
  },
  {
   "cell_type": "code",
   "execution_count": null,
   "metadata": {},
   "outputs": [],
   "source": [
    "# from movies, select only the movies that do not exist in weaviate\n",
    "movies_not_in_weaviate = movies[movies['exists'] == False]\n",
    "\n",
    "# keep rows in ratings where the movie_id is not in movies_not_in_weaviate\n",
    "ratings = ratings[~ratings['movie_id'].isin(\n",
    "    movies_not_in_weaviate['movie_id'])]\n"
   ]
  },
  {
   "attachments": {},
   "cell_type": "markdown",
   "metadata": {},
   "source": [
    "Make a dataframe of user id and their viewing history which is the sequence of moviews they rated from earlier to lastest:"
   ]
  },
  {
   "cell_type": "code",
   "execution_count": null,
   "metadata": {},
   "outputs": [],
   "source": [
    "# sort x by the second elmement of the tuple\n",
    "# and only return the first element of each tuple\n",
    "def f(x):\n",
    "    return list(map(lambda x: x[0], sorted(x, key=lambda x: x[1])))\n",
    "\n",
    "\n",
    "# make a tuple from movie_id and timestamp\n",
    "ratings['movie_id_timestamp'] = ratings.apply(\n",
    "    lambda x: (x['movie_id'], x['timestamp']), axis=1)\n",
    "\n",
    "# group by user_id and apply f on the movie_id_timestamp column\n",
    "# name the column view_history\n",
    "history = ratings.groupby('user_id')['movie_id_timestamp'].apply(\n",
    "    f).reset_index(name='view_history')\n",
    "\n",
    "history.head()\n"
   ]
  },
  {
   "cell_type": "code",
   "execution_count": null,
   "metadata": {},
   "outputs": [],
   "source": [
    "# make a histogram of the length of the view_history\n",
    "history['view_history'].apply(len).hist(bins=100)\n"
   ]
  },
  {
   "attachments": {},
   "cell_type": "markdown",
   "metadata": {},
   "source": [
    "# Train Test Split"
   ]
  },
  {
   "attachments": {},
   "cell_type": "markdown",
   "metadata": {},
   "source": [
    "The training set is each users viewing history up to the last movie they rated. \n",
    "\n",
    "The test set is the last movie they rated."
   ]
  },
  {
   "cell_type": "code",
   "execution_count": null,
   "metadata": {},
   "outputs": [],
   "source": [
    "# add column called train\n",
    "# train is the everything in view_history except the last item\n",
    "history['train'] = history['view_history'].apply(lambda x: x[:-1])\n",
    "\n",
    "# add column called test\n",
    "# test is the last item in view_history\n",
    "history['test'] = history['view_history'].apply(lambda x: x[-1])\n",
    "\n",
    "history.head()\n"
   ]
  },
  {
   "attachments": {},
   "cell_type": "markdown",
   "metadata": {},
   "source": [
    "# Generate Recommendations"
   ]
  },
  {
   "cell_type": "code",
   "execution_count": null,
   "metadata": {},
   "outputs": [],
   "source": [
    "# select user_id, train and test into df\n",
    "df = history[['user_id', 'train', 'test']]\n",
    "\n",
    "# sample 5 rows from df\n",
    "# df = df.sample(5)\n",
    "# df\n"
   ]
  },
  {
   "cell_type": "code",
   "execution_count": null,
   "metadata": {},
   "outputs": [],
   "source": [
    "tqdm.pandas(desc=\"Progress\")\n",
    "\n",
    "# apply get_recommendations to each row in df\n",
    "# to get 100 recommendations\n",
    "# and assign it to the column recs\n",
    "df['recs'] = df.progress_apply(lambda x: get_recommendations(\n",
    "    x['user_id'], x['train'], top_k=100), axis=1)\n",
    "\n",
    "df.head()\n"
   ]
  },
  {
   "attachments": {},
   "cell_type": "markdown",
   "metadata": {},
   "source": [
    "# Evaluation"
   ]
  },
  {
   "attachments": {},
   "cell_type": "markdown",
   "metadata": {},
   "source": [
    "Define the query relevance judgements i.e. ground truth:"
   ]
  },
  {
   "cell_type": "code",
   "execution_count": null,
   "metadata": {},
   "outputs": [],
   "source": [
    "qrels = Qrels({user_id: {test: 1}\n",
    "              for user_id, test in zip(df['user_id'], df['test'])})\n"
   ]
  },
  {
   "attachments": {},
   "cell_type": "markdown",
   "metadata": {},
   "source": [
    "Define the run i.e. the recommendations from the model:"
   ]
  },
  {
   "cell_type": "code",
   "execution_count": null,
   "metadata": {},
   "outputs": [],
   "source": [
    "# enumerate over the user id and recs column\n",
    "# and create a dictionary with the user_id as key\n",
    "# the value is a dictionary with the movie_id as key\n",
    "# and the rank as value\n",
    "run = Run({user_id: {rec: rank for rank, rec in enumerate(recs, 1)}\n",
    "          for user_id, recs in zip(df['user_id'], df['recs'])}, name=\"simple vector search\")\n"
   ]
  },
  {
   "attachments": {},
   "cell_type": "markdown",
   "metadata": {},
   "source": [
    "Calculate the metrics:"
   ]
  },
  {
   "cell_type": "code",
   "execution_count": null,
   "metadata": {},
   "outputs": [],
   "source": [
    "report = compare(qrels=qrels,\n",
    "                 runs=[run],\n",
    "                 metrics=['ndcg@10', 'recall@10', 'recall@100'])\n",
    "\n",
    "report\n"
   ]
  }
 ],
 "metadata": {
  "kernelspec": {
   "display_name": "Python 3",
   "language": "python",
   "name": "python3"
  },
  "language_info": {
   "codemirror_mode": {
    "name": "ipython",
    "version": 3
   },
   "file_extension": ".py",
   "mimetype": "text/x-python",
   "name": "python",
   "nbconvert_exporter": "python",
   "pygments_lexer": "ipython3",
   "version": "3.10.9"
  },
  "orig_nbformat": 4,
  "vscode": {
   "interpreter": {
    "hash": "949777d72b0d2535278d3dc13498b2535136f6dfe0678499012e853ee9abcab1"
   }
  }
 },
 "nbformat": 4,
 "nbformat_minor": 2
}
